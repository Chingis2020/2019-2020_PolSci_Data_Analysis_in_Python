{
 "cells": [
  {
   "cell_type": "markdown",
   "metadata": {},
   "source": [
    "Рогович Татьяна\n",
    "\n",
    "# Анализ данных  в Python (политология)\n",
    "## Визуализация в matplotlib (продолжение)\n",
    "##### Занятия 10-11 | 5.11.2019"
   ]
  },
  {
   "cell_type": "markdown",
   "metadata": {},
   "source": [
    "# Графики для категориальных переменных: столбчатые диаграммы, совмещенные столбчатые диаграммы, график рассеяния для категориальных переменных"
   ]
  },
  {
   "cell_type": "markdown",
   "metadata": {},
   "source": [
    "Тут будем работать по мотивам вот этого блокнота.\n",
    "\n",
    "https://nbviewer.jupyter.org/github/yaph/ipython-notebooks/blob/master/movie-body-counts.ipynb\n",
    "\n",
    "Бдуем работать с датасетом, который подсчитывает количество смертей в фильмах (меотодологию сбора данных можно посмотреть по ссылке выше). Несколько графиков мы рассмотрим на занятии, остальные можно изучить самостоятельно.\n",
    "\n",
    "Очень часто для того, чтобы получить тот график, который хотим - нужно сделать правильную группировку. С этим тоже тут поработаем.\n"
   ]
  },
  {
   "cell_type": "code",
   "execution_count": 8,
   "metadata": {},
   "outputs": [],
   "source": [
    "# наша основная библиотека для визуализаций\n",
    "import matplotlib.pyplot as plt  \n",
    "import pandas as pd \n",
    "import numpy as np\n",
    "\n",
    "# магическая функция, чтобы графики отображались в блокноте под ячейками\n",
    "%matplotlib inline  "
   ]
  },
  {
   "cell_type": "code",
   "execution_count": 7,
   "metadata": {},
   "outputs": [
    {
     "data": {
      "text/html": [
       "<div>\n",
       "<style scoped>\n",
       "    .dataframe tbody tr th:only-of-type {\n",
       "        vertical-align: middle;\n",
       "    }\n",
       "\n",
       "    .dataframe tbody tr th {\n",
       "        vertical-align: top;\n",
       "    }\n",
       "\n",
       "    .dataframe thead th {\n",
       "        text-align: right;\n",
       "    }\n",
       "</style>\n",
       "<table border=\"1\" class=\"dataframe\">\n",
       "  <thead>\n",
       "    <tr style=\"text-align: right;\">\n",
       "      <th></th>\n",
       "      <th>Film</th>\n",
       "      <th>Year</th>\n",
       "      <th>Body_Count</th>\n",
       "      <th>MPAA_Rating</th>\n",
       "      <th>Genre</th>\n",
       "      <th>Director</th>\n",
       "      <th>Length_Minutes</th>\n",
       "      <th>IMDB_Rating</th>\n",
       "    </tr>\n",
       "  </thead>\n",
       "  <tbody>\n",
       "    <tr>\n",
       "      <th>0</th>\n",
       "      <td>24 Hour Party People</td>\n",
       "      <td>2002</td>\n",
       "      <td>7</td>\n",
       "      <td>R</td>\n",
       "      <td>Biography|Comedy|Drama|Music</td>\n",
       "      <td>Michael Winterbottom</td>\n",
       "      <td>117</td>\n",
       "      <td>7.3</td>\n",
       "    </tr>\n",
       "    <tr>\n",
       "      <th>1</th>\n",
       "      <td>28 Days Later</td>\n",
       "      <td>2002</td>\n",
       "      <td>53</td>\n",
       "      <td>R</td>\n",
       "      <td>Horror|Sci-Fi|Thriller</td>\n",
       "      <td>Danny Boyle</td>\n",
       "      <td>113</td>\n",
       "      <td>7.6</td>\n",
       "    </tr>\n",
       "    <tr>\n",
       "      <th>2</th>\n",
       "      <td>28 Weeks Later</td>\n",
       "      <td>2007</td>\n",
       "      <td>212</td>\n",
       "      <td>R</td>\n",
       "      <td>Horror|Sci-Fi|Thriller</td>\n",
       "      <td>Juan Carlos Fresnadillo</td>\n",
       "      <td>100</td>\n",
       "      <td>7.0</td>\n",
       "    </tr>\n",
       "    <tr>\n",
       "      <th>3</th>\n",
       "      <td>30 Days of Night</td>\n",
       "      <td>2007</td>\n",
       "      <td>67</td>\n",
       "      <td>R</td>\n",
       "      <td>Horror|Thriller</td>\n",
       "      <td>David Slade</td>\n",
       "      <td>113</td>\n",
       "      <td>6.6</td>\n",
       "    </tr>\n",
       "    <tr>\n",
       "      <th>4</th>\n",
       "      <td>300</td>\n",
       "      <td>2007</td>\n",
       "      <td>600</td>\n",
       "      <td>R</td>\n",
       "      <td>Action|Fantasy|History|War</td>\n",
       "      <td>Zack Snyder</td>\n",
       "      <td>117</td>\n",
       "      <td>7.7</td>\n",
       "    </tr>\n",
       "  </tbody>\n",
       "</table>\n",
       "</div>"
      ],
      "text/plain": [
       "                   Film  Year  Body_Count MPAA_Rating  \\\n",
       "0  24 Hour Party People  2002           7           R   \n",
       "1         28 Days Later  2002          53           R   \n",
       "2        28 Weeks Later  2007         212           R   \n",
       "3      30 Days of Night  2007          67           R   \n",
       "4                   300  2007         600           R   \n",
       "\n",
       "                          Genre                 Director  Length_Minutes  \\\n",
       "0  Biography|Comedy|Drama|Music     Michael Winterbottom             117   \n",
       "1        Horror|Sci-Fi|Thriller              Danny Boyle             113   \n",
       "2        Horror|Sci-Fi|Thriller  Juan Carlos Fresnadillo             100   \n",
       "3               Horror|Thriller              David Slade             113   \n",
       "4    Action|Fantasy|History|War              Zack Snyder             117   \n",
       "\n",
       "   IMDB_Rating  \n",
       "0          7.3  \n",
       "1          7.6  \n",
       "2          7.0  \n",
       "3          6.6  \n",
       "4          7.7  "
      ]
     },
     "execution_count": 7,
     "metadata": {},
     "output_type": "execute_result"
    }
   ],
   "source": [
    "movies = pd.read_csv('https://raw.githubusercontent.com/rogovich/2019-2020_PolSci_Data_Analysis_in_Python/master/9week_Viz_Matplotlib_Plotly/filmdeathcounts.csv')\n",
    "movies.head()"
   ]
  },
  {
   "cell_type": "markdown",
   "metadata": {},
   "source": [
    "Для начала нам нужно решить две проблемы - в колонках Genre и Director может быть несколько значений. Давайте подумаем, как их извлечь.\n",
    "Также создадим две новые переменные - FilmCount c единицами во сех колонках (понадобится потом для графиков) и Body_Count_Min (количество смертей в минуту экранного времени).\n"
   ]
  },
  {
   "cell_type": "code",
   "execution_count": 38,
   "metadata": {},
   "outputs": [
    {
     "data": {
      "text/html": [
       "<div>\n",
       "<style scoped>\n",
       "    .dataframe tbody tr th:only-of-type {\n",
       "        vertical-align: middle;\n",
       "    }\n",
       "\n",
       "    .dataframe tbody tr th {\n",
       "        vertical-align: top;\n",
       "    }\n",
       "\n",
       "    .dataframe thead th {\n",
       "        text-align: right;\n",
       "    }\n",
       "</style>\n",
       "<table border=\"1\" class=\"dataframe\">\n",
       "  <thead>\n",
       "    <tr style=\"text-align: right;\">\n",
       "      <th></th>\n",
       "      <th>Film</th>\n",
       "      <th>Year</th>\n",
       "      <th>Body_Count</th>\n",
       "      <th>MPAA_Rating</th>\n",
       "      <th>Genre</th>\n",
       "      <th>Director</th>\n",
       "      <th>Length_Minutes</th>\n",
       "      <th>IMDB_Rating</th>\n",
       "      <th>Film_Count</th>\n",
       "      <th>Body_Count_Min</th>\n",
       "    </tr>\n",
       "  </thead>\n",
       "  <tbody>\n",
       "    <tr>\n",
       "      <th>0</th>\n",
       "      <td>24 Hour Party People</td>\n",
       "      <td>2002</td>\n",
       "      <td>7</td>\n",
       "      <td>R</td>\n",
       "      <td>Biography|Comedy|Drama|Music</td>\n",
       "      <td>Michael Winterbottom</td>\n",
       "      <td>117</td>\n",
       "      <td>7.3</td>\n",
       "      <td>1</td>\n",
       "      <td>0.059829</td>\n",
       "    </tr>\n",
       "    <tr>\n",
       "      <th>1</th>\n",
       "      <td>28 Days Later</td>\n",
       "      <td>2002</td>\n",
       "      <td>53</td>\n",
       "      <td>R</td>\n",
       "      <td>Horror|Sci-Fi|Thriller</td>\n",
       "      <td>Danny Boyle</td>\n",
       "      <td>113</td>\n",
       "      <td>7.6</td>\n",
       "      <td>1</td>\n",
       "      <td>0.469027</td>\n",
       "    </tr>\n",
       "    <tr>\n",
       "      <th>2</th>\n",
       "      <td>28 Weeks Later</td>\n",
       "      <td>2007</td>\n",
       "      <td>212</td>\n",
       "      <td>R</td>\n",
       "      <td>Horror|Sci-Fi|Thriller</td>\n",
       "      <td>Juan Carlos Fresnadillo</td>\n",
       "      <td>100</td>\n",
       "      <td>7.0</td>\n",
       "      <td>1</td>\n",
       "      <td>2.120000</td>\n",
       "    </tr>\n",
       "    <tr>\n",
       "      <th>3</th>\n",
       "      <td>30 Days of Night</td>\n",
       "      <td>2007</td>\n",
       "      <td>67</td>\n",
       "      <td>R</td>\n",
       "      <td>Horror|Thriller</td>\n",
       "      <td>David Slade</td>\n",
       "      <td>113</td>\n",
       "      <td>6.6</td>\n",
       "      <td>1</td>\n",
       "      <td>0.592920</td>\n",
       "    </tr>\n",
       "    <tr>\n",
       "      <th>4</th>\n",
       "      <td>300</td>\n",
       "      <td>2007</td>\n",
       "      <td>600</td>\n",
       "      <td>R</td>\n",
       "      <td>Action|Fantasy|History|War</td>\n",
       "      <td>Zack Snyder</td>\n",
       "      <td>117</td>\n",
       "      <td>7.7</td>\n",
       "      <td>1</td>\n",
       "      <td>5.128205</td>\n",
       "    </tr>\n",
       "  </tbody>\n",
       "</table>\n",
       "</div>"
      ],
      "text/plain": [
       "                   Film  Year  Body_Count MPAA_Rating  \\\n",
       "0  24 Hour Party People  2002           7           R   \n",
       "1         28 Days Later  2002          53           R   \n",
       "2        28 Weeks Later  2007         212           R   \n",
       "3      30 Days of Night  2007          67           R   \n",
       "4                   300  2007         600           R   \n",
       "\n",
       "                          Genre                 Director  Length_Minutes  \\\n",
       "0  Biography|Comedy|Drama|Music     Michael Winterbottom             117   \n",
       "1        Horror|Sci-Fi|Thriller              Danny Boyle             113   \n",
       "2        Horror|Sci-Fi|Thriller  Juan Carlos Fresnadillo             100   \n",
       "3               Horror|Thriller              David Slade             113   \n",
       "4    Action|Fantasy|History|War              Zack Snyder             117   \n",
       "\n",
       "   IMDB_Rating  Film_Count  Body_Count_Min  \n",
       "0          7.3           1        0.059829  \n",
       "1          7.6           1        0.469027  \n",
       "2          7.0           1        2.120000  \n",
       "3          6.6           1        0.592920  \n",
       "4          7.7           1        5.128205  "
      ]
     },
     "execution_count": 38,
     "metadata": {},
     "output_type": "execute_result"
    }
   ],
   "source": [
    "movies['Film_Count'] = 1\n",
    "movies['Body_Count_Min'] = movies['Body_Count'] / movies['Length_Minutes'].astype(float)\n",
    "movies.head()"
   ]
  },
  {
   "cell_type": "code",
   "execution_count": 96,
   "metadata": {},
   "outputs": [
    {
     "name": "stdout",
     "output_type": "stream",
     "text": [
      "(0, Film                      24 Hour Party People\n",
      "Year                                      2002\n",
      "Body_Count                                   7\n",
      "MPAA_Rating                                  R\n",
      "Genre             Biography|Comedy|Drama|Music\n",
      "Director                  Michael Winterbottom\n",
      "Length_Minutes                             117\n",
      "IMDB_Rating                                7.3\n",
      "Film_Count                                   1\n",
      "Body_Count_Min                       0.0598291\n",
      "Name: 0, dtype: object)\n",
      "____________________\n",
      "0\n",
      "____________________\n",
      "Film                      24 Hour Party People\n",
      "Year                                      2002\n",
      "Body_Count                                   7\n",
      "MPAA_Rating                                  R\n",
      "Genre             Biography|Comedy|Drama|Music\n",
      "Director                  Michael Winterbottom\n",
      "Length_Minutes                             117\n",
      "IMDB_Rating                                7.3\n",
      "Film_Count                                   1\n",
      "Body_Count_Min                       0.0598291\n",
      "Name: 0, dtype: object\n",
      "____________________\n"
     ]
    }
   ],
   "source": [
    "# мы будем работать с итератором iterrows, посмотрим, что он возвращает\n",
    "for i in movies.iterrows():\n",
    "    print(i)\n",
    "    print('____________________')\n",
    "    print(i[0])\n",
    "    print('____________________')\n",
    "    print(i[1])\n",
    "    print('____________________')\n",
    "\n",
    "    break"
   ]
  },
  {
   "cell_type": "markdown",
   "metadata": {},
   "source": [
    "Теперь давайте попробуем реализовать нашу идею на одном примере."
   ]
  },
  {
   "cell_type": "code",
   "execution_count": 97,
   "metadata": {},
   "outputs": [
    {
     "name": "stdout",
     "output_type": "stream",
     "text": [
      "Film                      24 Hour Party People\n",
      "Year                                      2002\n",
      "Body_Count                                   7\n",
      "MPAA_Rating                                  R\n",
      "Genre             Biography|Comedy|Drama|Music\n",
      "Director                  Michael Winterbottom\n",
      "Length_Minutes                             117\n",
      "IMDB_Rating                                7.3\n",
      "Film_Count                                   1\n",
      "Body_Count_Min                       0.0598291\n",
      "Name: 0, dtype: object\n",
      "_____\n",
      "['Biography', 'Comedy', 'Drama', 'Music']\n",
      "_____\n",
      "Film                      24 Hour Party People\n",
      "Year                                      2002\n",
      "Body_Count                                   7\n",
      "MPAA_Rating                                  R\n",
      "Genre             Biography|Comedy|Drama|Music\n",
      "Director                  Michael Winterbottom\n",
      "Length_Minutes                             117\n",
      "IMDB_Rating                                7.3\n",
      "Film_Count                                   1\n",
      "Body_Count_Min                       0.0598291\n",
      "Name: 0, dtype: object\n",
      "_____\n",
      "Film              24 Hour Party People\n",
      "Year                              2002\n",
      "Body_Count                           7\n",
      "MPAA_Rating                          R\n",
      "Genre                        Biography\n",
      "Director          Michael Winterbottom\n",
      "Length_Minutes                     117\n",
      "IMDB_Rating                        7.3\n",
      "Film_Count                           1\n",
      "Body_Count_Min               0.0598291\n",
      "Name: 0, dtype: object\n",
      "_____\n",
      "{0: Film              24 Hour Party People\n",
      "Year                              2002\n",
      "Body_Count                           7\n",
      "MPAA_Rating                          R\n",
      "Genre                        Biography\n",
      "Director          Michael Winterbottom\n",
      "Length_Minutes                     117\n",
      "IMDB_Rating                        7.3\n",
      "Film_Count                           1\n",
      "Body_Count_Min               0.0598291\n",
      "Name: 0, dtype: object}\n",
      "_____\n",
      "Film                      24 Hour Party People\n",
      "Year                                      2002\n",
      "Body_Count                                   7\n",
      "MPAA_Rating                                  R\n",
      "Genre             Biography|Comedy|Drama|Music\n",
      "Director                  Michael Winterbottom\n",
      "Length_Minutes                             117\n",
      "IMDB_Rating                                7.3\n",
      "Film_Count                                   1\n",
      "Body_Count_Min                       0.0598291\n",
      "Name: 0, dtype: object\n",
      "_____\n",
      "Film              24 Hour Party People\n",
      "Year                              2002\n",
      "Body_Count                           7\n",
      "MPAA_Rating                          R\n",
      "Genre                           Comedy\n",
      "Director          Michael Winterbottom\n",
      "Length_Minutes                     117\n",
      "IMDB_Rating                        7.3\n",
      "Film_Count                           1\n",
      "Body_Count_Min               0.0598291\n",
      "Name: 0, dtype: object\n",
      "_____\n",
      "{0: Film              24 Hour Party People\n",
      "Year                              2002\n",
      "Body_Count                           7\n",
      "MPAA_Rating                          R\n",
      "Genre                        Biography\n",
      "Director          Michael Winterbottom\n",
      "Length_Minutes                     117\n",
      "IMDB_Rating                        7.3\n",
      "Film_Count                           1\n",
      "Body_Count_Min               0.0598291\n",
      "Name: 0, dtype: object, 1: Film              24 Hour Party People\n",
      "Year                              2002\n",
      "Body_Count                           7\n",
      "MPAA_Rating                          R\n",
      "Genre                           Comedy\n",
      "Director          Michael Winterbottom\n",
      "Length_Minutes                     117\n",
      "IMDB_Rating                        7.3\n",
      "Film_Count                           1\n",
      "Body_Count_Min               0.0598291\n",
      "Name: 0, dtype: object}\n",
      "_____\n",
      "Film                      24 Hour Party People\n",
      "Year                                      2002\n",
      "Body_Count                                   7\n",
      "MPAA_Rating                                  R\n",
      "Genre             Biography|Comedy|Drama|Music\n",
      "Director                  Michael Winterbottom\n",
      "Length_Minutes                             117\n",
      "IMDB_Rating                                7.3\n",
      "Film_Count                                   1\n",
      "Body_Count_Min                       0.0598291\n",
      "Name: 0, dtype: object\n",
      "_____\n",
      "Film              24 Hour Party People\n",
      "Year                              2002\n",
      "Body_Count                           7\n",
      "MPAA_Rating                          R\n",
      "Genre                            Drama\n",
      "Director          Michael Winterbottom\n",
      "Length_Minutes                     117\n",
      "IMDB_Rating                        7.3\n",
      "Film_Count                           1\n",
      "Body_Count_Min               0.0598291\n",
      "Name: 0, dtype: object\n",
      "_____\n",
      "{0: Film              24 Hour Party People\n",
      "Year                              2002\n",
      "Body_Count                           7\n",
      "MPAA_Rating                          R\n",
      "Genre                        Biography\n",
      "Director          Michael Winterbottom\n",
      "Length_Minutes                     117\n",
      "IMDB_Rating                        7.3\n",
      "Film_Count                           1\n",
      "Body_Count_Min               0.0598291\n",
      "Name: 0, dtype: object, 1: Film              24 Hour Party People\n",
      "Year                              2002\n",
      "Body_Count                           7\n",
      "MPAA_Rating                          R\n",
      "Genre                           Comedy\n",
      "Director          Michael Winterbottom\n",
      "Length_Minutes                     117\n",
      "IMDB_Rating                        7.3\n",
      "Film_Count                           1\n",
      "Body_Count_Min               0.0598291\n",
      "Name: 0, dtype: object, 2: Film              24 Hour Party People\n",
      "Year                              2002\n",
      "Body_Count                           7\n",
      "MPAA_Rating                          R\n",
      "Genre                            Drama\n",
      "Director          Michael Winterbottom\n",
      "Length_Minutes                     117\n",
      "IMDB_Rating                        7.3\n",
      "Film_Count                           1\n",
      "Body_Count_Min               0.0598291\n",
      "Name: 0, dtype: object}\n",
      "_____\n",
      "Film                      24 Hour Party People\n",
      "Year                                      2002\n",
      "Body_Count                                   7\n",
      "MPAA_Rating                                  R\n",
      "Genre             Biography|Comedy|Drama|Music\n",
      "Director                  Michael Winterbottom\n",
      "Length_Minutes                             117\n",
      "IMDB_Rating                                7.3\n",
      "Film_Count                                   1\n",
      "Body_Count_Min                       0.0598291\n",
      "Name: 0, dtype: object\n",
      "_____\n",
      "Film              24 Hour Party People\n",
      "Year                              2002\n",
      "Body_Count                           7\n",
      "MPAA_Rating                          R\n",
      "Genre                            Music\n",
      "Director          Michael Winterbottom\n",
      "Length_Minutes                     117\n",
      "IMDB_Rating                        7.3\n",
      "Film_Count                           1\n",
      "Body_Count_Min               0.0598291\n",
      "Name: 0, dtype: object\n",
      "_____\n",
      "{0: Film              24 Hour Party People\n",
      "Year                              2002\n",
      "Body_Count                           7\n",
      "MPAA_Rating                          R\n",
      "Genre                        Biography\n",
      "Director          Michael Winterbottom\n",
      "Length_Minutes                     117\n",
      "IMDB_Rating                        7.3\n",
      "Film_Count                           1\n",
      "Body_Count_Min               0.0598291\n",
      "Name: 0, dtype: object, 1: Film              24 Hour Party People\n",
      "Year                              2002\n",
      "Body_Count                           7\n",
      "MPAA_Rating                          R\n",
      "Genre                           Comedy\n",
      "Director          Michael Winterbottom\n",
      "Length_Minutes                     117\n",
      "IMDB_Rating                        7.3\n",
      "Film_Count                           1\n",
      "Body_Count_Min               0.0598291\n",
      "Name: 0, dtype: object, 2: Film              24 Hour Party People\n",
      "Year                              2002\n",
      "Body_Count                           7\n",
      "MPAA_Rating                          R\n",
      "Genre                            Drama\n",
      "Director          Michael Winterbottom\n",
      "Length_Minutes                     117\n",
      "IMDB_Rating                        7.3\n",
      "Film_Count                           1\n",
      "Body_Count_Min               0.0598291\n",
      "Name: 0, dtype: object, 3: Film              24 Hour Party People\n",
      "Year                              2002\n",
      "Body_Count                           7\n",
      "MPAA_Rating                          R\n",
      "Genre                            Music\n",
      "Director          Michael Winterbottom\n",
      "Length_Minutes                     117\n",
      "IMDB_Rating                        7.3\n",
      "Film_Count                           1\n",
      "Body_Count_Min               0.0598291\n",
      "Name: 0, dtype: object}\n",
      "_____\n"
     ]
    }
   ],
   "source": [
    "di = {}\n",
    "idx = 0\n",
    "col = 'Genre'\n",
    "sep='|'\n",
    "\n",
    "for i in movies.iterrows(): # проходимся по наблюдениям\n",
    "    d = i[1] # достаем первый объект, в котором хранятся все переменные, кроме индекса \n",
    "    print(d)\n",
    "    print('_____')\n",
    "    names = d[col].split(sep) # разбиваем колонку жанр по разделителю\n",
    "    print(names)\n",
    "    print('_____')\n",
    "    for name in names:\n",
    "        c = d.copy() # работаем с копией нашего фильма, чтобы не перезаписать его\n",
    "        print(c)\n",
    "        print('_____')\n",
    "        c[col] = name # меняем в копии значение в колонке Genre\n",
    "        print(c)\n",
    "        print('_____')\n",
    "        di[idx] = c # кладем нашу новую колонку в словарь под текущим индексом\n",
    "        idx += 1 # обновляем индекс\n",
    "        print(di)\n",
    "        print('_____')\n",
    "        \n",
    "    break"
   ]
  },
  {
   "cell_type": "code",
   "execution_count": 98,
   "metadata": {},
   "outputs": [
    {
     "data": {
      "text/html": [
       "<div>\n",
       "<style scoped>\n",
       "    .dataframe tbody tr th:only-of-type {\n",
       "        vertical-align: middle;\n",
       "    }\n",
       "\n",
       "    .dataframe tbody tr th {\n",
       "        vertical-align: top;\n",
       "    }\n",
       "\n",
       "    .dataframe thead th {\n",
       "        text-align: right;\n",
       "    }\n",
       "</style>\n",
       "<table border=\"1\" class=\"dataframe\">\n",
       "  <thead>\n",
       "    <tr style=\"text-align: right;\">\n",
       "      <th></th>\n",
       "      <th>0</th>\n",
       "      <th>1</th>\n",
       "      <th>2</th>\n",
       "      <th>3</th>\n",
       "    </tr>\n",
       "  </thead>\n",
       "  <tbody>\n",
       "    <tr>\n",
       "      <th>Film</th>\n",
       "      <td>24 Hour Party People</td>\n",
       "      <td>24 Hour Party People</td>\n",
       "      <td>24 Hour Party People</td>\n",
       "      <td>24 Hour Party People</td>\n",
       "    </tr>\n",
       "    <tr>\n",
       "      <th>Year</th>\n",
       "      <td>2002</td>\n",
       "      <td>2002</td>\n",
       "      <td>2002</td>\n",
       "      <td>2002</td>\n",
       "    </tr>\n",
       "    <tr>\n",
       "      <th>Body_Count</th>\n",
       "      <td>7</td>\n",
       "      <td>7</td>\n",
       "      <td>7</td>\n",
       "      <td>7</td>\n",
       "    </tr>\n",
       "    <tr>\n",
       "      <th>MPAA_Rating</th>\n",
       "      <td>R</td>\n",
       "      <td>R</td>\n",
       "      <td>R</td>\n",
       "      <td>R</td>\n",
       "    </tr>\n",
       "    <tr>\n",
       "      <th>Genre</th>\n",
       "      <td>Biography</td>\n",
       "      <td>Comedy</td>\n",
       "      <td>Drama</td>\n",
       "      <td>Music</td>\n",
       "    </tr>\n",
       "    <tr>\n",
       "      <th>Director</th>\n",
       "      <td>Michael Winterbottom</td>\n",
       "      <td>Michael Winterbottom</td>\n",
       "      <td>Michael Winterbottom</td>\n",
       "      <td>Michael Winterbottom</td>\n",
       "    </tr>\n",
       "    <tr>\n",
       "      <th>Length_Minutes</th>\n",
       "      <td>117</td>\n",
       "      <td>117</td>\n",
       "      <td>117</td>\n",
       "      <td>117</td>\n",
       "    </tr>\n",
       "    <tr>\n",
       "      <th>IMDB_Rating</th>\n",
       "      <td>7.3</td>\n",
       "      <td>7.3</td>\n",
       "      <td>7.3</td>\n",
       "      <td>7.3</td>\n",
       "    </tr>\n",
       "    <tr>\n",
       "      <th>Film_Count</th>\n",
       "      <td>1</td>\n",
       "      <td>1</td>\n",
       "      <td>1</td>\n",
       "      <td>1</td>\n",
       "    </tr>\n",
       "    <tr>\n",
       "      <th>Body_Count_Min</th>\n",
       "      <td>0.0598291</td>\n",
       "      <td>0.0598291</td>\n",
       "      <td>0.0598291</td>\n",
       "      <td>0.0598291</td>\n",
       "    </tr>\n",
       "  </tbody>\n",
       "</table>\n",
       "</div>"
      ],
      "text/plain": [
       "                                   0                     1  \\\n",
       "Film            24 Hour Party People  24 Hour Party People   \n",
       "Year                            2002                  2002   \n",
       "Body_Count                         7                     7   \n",
       "MPAA_Rating                        R                     R   \n",
       "Genre                      Biography                Comedy   \n",
       "Director        Michael Winterbottom  Michael Winterbottom   \n",
       "Length_Minutes                   117                   117   \n",
       "IMDB_Rating                      7.3                   7.3   \n",
       "Film_Count                         1                     1   \n",
       "Body_Count_Min             0.0598291             0.0598291   \n",
       "\n",
       "                                   2                     3  \n",
       "Film            24 Hour Party People  24 Hour Party People  \n",
       "Year                            2002                  2002  \n",
       "Body_Count                         7                     7  \n",
       "MPAA_Rating                        R                     R  \n",
       "Genre                          Drama                 Music  \n",
       "Director        Michael Winterbottom  Michael Winterbottom  \n",
       "Length_Minutes                   117                   117  \n",
       "IMDB_Rating                      7.3                   7.3  \n",
       "Film_Count                         1                     1  \n",
       "Body_Count_Min             0.0598291             0.0598291  "
      ]
     },
     "execution_count": 98,
     "metadata": {},
     "output_type": "execute_result"
    }
   ],
   "source": [
    "pd.DataFrame(di) # как будет выглядеть наш новый датафрейм"
   ]
  },
  {
   "cell_type": "code",
   "execution_count": 99,
   "metadata": {},
   "outputs": [
    {
     "data": {
      "text/html": [
       "<div>\n",
       "<style scoped>\n",
       "    .dataframe tbody tr th:only-of-type {\n",
       "        vertical-align: middle;\n",
       "    }\n",
       "\n",
       "    .dataframe tbody tr th {\n",
       "        vertical-align: top;\n",
       "    }\n",
       "\n",
       "    .dataframe thead th {\n",
       "        text-align: right;\n",
       "    }\n",
       "</style>\n",
       "<table border=\"1\" class=\"dataframe\">\n",
       "  <thead>\n",
       "    <tr style=\"text-align: right;\">\n",
       "      <th></th>\n",
       "      <th>Film</th>\n",
       "      <th>Year</th>\n",
       "      <th>Body_Count</th>\n",
       "      <th>MPAA_Rating</th>\n",
       "      <th>Genre</th>\n",
       "      <th>Director</th>\n",
       "      <th>Length_Minutes</th>\n",
       "      <th>IMDB_Rating</th>\n",
       "      <th>Film_Count</th>\n",
       "      <th>Body_Count_Min</th>\n",
       "    </tr>\n",
       "  </thead>\n",
       "  <tbody>\n",
       "    <tr>\n",
       "      <th>0</th>\n",
       "      <td>24 Hour Party People</td>\n",
       "      <td>2002</td>\n",
       "      <td>7</td>\n",
       "      <td>R</td>\n",
       "      <td>Biography</td>\n",
       "      <td>Michael Winterbottom</td>\n",
       "      <td>117</td>\n",
       "      <td>7.3</td>\n",
       "      <td>1</td>\n",
       "      <td>0.0598291</td>\n",
       "    </tr>\n",
       "    <tr>\n",
       "      <th>1</th>\n",
       "      <td>24 Hour Party People</td>\n",
       "      <td>2002</td>\n",
       "      <td>7</td>\n",
       "      <td>R</td>\n",
       "      <td>Comedy</td>\n",
       "      <td>Michael Winterbottom</td>\n",
       "      <td>117</td>\n",
       "      <td>7.3</td>\n",
       "      <td>1</td>\n",
       "      <td>0.0598291</td>\n",
       "    </tr>\n",
       "    <tr>\n",
       "      <th>2</th>\n",
       "      <td>24 Hour Party People</td>\n",
       "      <td>2002</td>\n",
       "      <td>7</td>\n",
       "      <td>R</td>\n",
       "      <td>Drama</td>\n",
       "      <td>Michael Winterbottom</td>\n",
       "      <td>117</td>\n",
       "      <td>7.3</td>\n",
       "      <td>1</td>\n",
       "      <td>0.0598291</td>\n",
       "    </tr>\n",
       "    <tr>\n",
       "      <th>3</th>\n",
       "      <td>24 Hour Party People</td>\n",
       "      <td>2002</td>\n",
       "      <td>7</td>\n",
       "      <td>R</td>\n",
       "      <td>Music</td>\n",
       "      <td>Michael Winterbottom</td>\n",
       "      <td>117</td>\n",
       "      <td>7.3</td>\n",
       "      <td>1</td>\n",
       "      <td>0.0598291</td>\n",
       "    </tr>\n",
       "  </tbody>\n",
       "</table>\n",
       "</div>"
      ],
      "text/plain": [
       "                   Film  Year Body_Count MPAA_Rating      Genre  \\\n",
       "0  24 Hour Party People  2002          7           R  Biography   \n",
       "1  24 Hour Party People  2002          7           R     Comedy   \n",
       "2  24 Hour Party People  2002          7           R      Drama   \n",
       "3  24 Hour Party People  2002          7           R      Music   \n",
       "\n",
       "               Director Length_Minutes IMDB_Rating Film_Count Body_Count_Min  \n",
       "0  Michael Winterbottom            117         7.3          1      0.0598291  \n",
       "1  Michael Winterbottom            117         7.3          1      0.0598291  \n",
       "2  Michael Winterbottom            117         7.3          1      0.0598291  \n",
       "3  Michael Winterbottom            117         7.3          1      0.0598291  "
      ]
     },
     "execution_count": 99,
     "metadata": {},
     "output_type": "execute_result"
    }
   ],
   "source": [
    "pd.DataFrame(di).transpose() # транспонируем. Отлично, то, что нужно!"
   ]
  },
  {
   "cell_type": "markdown",
   "metadata": {},
   "source": [
    "Теперь соберем все в функцию. Помним, что будем ее применять к двум колонкам по очереди (режиссер и жанр)."
   ]
  },
  {
   "cell_type": "code",
   "execution_count": 10,
   "metadata": {},
   "outputs": [],
   "source": [
    "def expand_col(df_src, col, sep='|'):\n",
    "    di = {}\n",
    "    idx = 0\n",
    "    for i in df_src.iterrows():\n",
    "        d = i[1]\n",
    "        names = d[col].split(sep)\n",
    "        for name in names:\n",
    "            # operate on a copy to not overwrite previous director names\n",
    "            c = d.copy()\n",
    "            c[col] = name\n",
    "            di[idx] = c\n",
    "            idx += 1\n",
    "\n",
    "    df_new = pd.DataFrame(di).transpose()\n",
    "    \n",
    "    return df_new"
   ]
  },
  {
   "cell_type": "code",
   "execution_count": 101,
   "metadata": {},
   "outputs": [
    {
     "data": {
      "text/plain": [
       "(545, 10)"
      ]
     },
     "execution_count": 101,
     "metadata": {},
     "output_type": "execute_result"
    }
   ],
   "source": [
    "movies.shape"
   ]
  },
  {
   "cell_type": "code",
   "execution_count": 18,
   "metadata": {},
   "outputs": [
    {
     "data": {
      "text/plain": [
       "(1682, 10)"
      ]
     },
     "execution_count": 18,
     "metadata": {},
     "output_type": "execute_result"
    }
   ],
   "source": [
    "df_genre = expand_col(movies, 'Genre') # а теперь уже датафрейм с обработанными режиссерами, обрабатываем на жанры\n",
    "df_genre.shape"
   ]
  },
  {
   "cell_type": "code",
   "execution_count": 19,
   "metadata": {},
   "outputs": [
    {
     "data": {
      "text/html": [
       "<div>\n",
       "<style scoped>\n",
       "    .dataframe tbody tr th:only-of-type {\n",
       "        vertical-align: middle;\n",
       "    }\n",
       "\n",
       "    .dataframe tbody tr th {\n",
       "        vertical-align: top;\n",
       "    }\n",
       "\n",
       "    .dataframe thead th {\n",
       "        text-align: right;\n",
       "    }\n",
       "</style>\n",
       "<table border=\"1\" class=\"dataframe\">\n",
       "  <thead>\n",
       "    <tr style=\"text-align: right;\">\n",
       "      <th></th>\n",
       "      <th>Film</th>\n",
       "      <th>Year</th>\n",
       "      <th>Body_Count</th>\n",
       "      <th>MPAA_Rating</th>\n",
       "      <th>Genre</th>\n",
       "      <th>Director</th>\n",
       "      <th>Length_Minutes</th>\n",
       "      <th>IMDB_Rating</th>\n",
       "      <th>Film_Count</th>\n",
       "      <th>Body_Count_Min</th>\n",
       "    </tr>\n",
       "  </thead>\n",
       "  <tbody>\n",
       "    <tr>\n",
       "      <th>0</th>\n",
       "      <td>24 Hour Party People</td>\n",
       "      <td>2002</td>\n",
       "      <td>7</td>\n",
       "      <td>R</td>\n",
       "      <td>Biography</td>\n",
       "      <td>Michael Winterbottom</td>\n",
       "      <td>117</td>\n",
       "      <td>7.3</td>\n",
       "      <td>1</td>\n",
       "      <td>0.0598291</td>\n",
       "    </tr>\n",
       "    <tr>\n",
       "      <th>1</th>\n",
       "      <td>24 Hour Party People</td>\n",
       "      <td>2002</td>\n",
       "      <td>7</td>\n",
       "      <td>R</td>\n",
       "      <td>Comedy</td>\n",
       "      <td>Michael Winterbottom</td>\n",
       "      <td>117</td>\n",
       "      <td>7.3</td>\n",
       "      <td>1</td>\n",
       "      <td>0.0598291</td>\n",
       "    </tr>\n",
       "    <tr>\n",
       "      <th>2</th>\n",
       "      <td>24 Hour Party People</td>\n",
       "      <td>2002</td>\n",
       "      <td>7</td>\n",
       "      <td>R</td>\n",
       "      <td>Drama</td>\n",
       "      <td>Michael Winterbottom</td>\n",
       "      <td>117</td>\n",
       "      <td>7.3</td>\n",
       "      <td>1</td>\n",
       "      <td>0.0598291</td>\n",
       "    </tr>\n",
       "    <tr>\n",
       "      <th>3</th>\n",
       "      <td>24 Hour Party People</td>\n",
       "      <td>2002</td>\n",
       "      <td>7</td>\n",
       "      <td>R</td>\n",
       "      <td>Music</td>\n",
       "      <td>Michael Winterbottom</td>\n",
       "      <td>117</td>\n",
       "      <td>7.3</td>\n",
       "      <td>1</td>\n",
       "      <td>0.0598291</td>\n",
       "    </tr>\n",
       "    <tr>\n",
       "      <th>4</th>\n",
       "      <td>28 Days Later</td>\n",
       "      <td>2002</td>\n",
       "      <td>53</td>\n",
       "      <td>R</td>\n",
       "      <td>Horror</td>\n",
       "      <td>Danny Boyle</td>\n",
       "      <td>113</td>\n",
       "      <td>7.6</td>\n",
       "      <td>1</td>\n",
       "      <td>0.469027</td>\n",
       "    </tr>\n",
       "  </tbody>\n",
       "</table>\n",
       "</div>"
      ],
      "text/plain": [
       "                   Film  Year Body_Count MPAA_Rating      Genre  \\\n",
       "0  24 Hour Party People  2002          7           R  Biography   \n",
       "1  24 Hour Party People  2002          7           R     Comedy   \n",
       "2  24 Hour Party People  2002          7           R      Drama   \n",
       "3  24 Hour Party People  2002          7           R      Music   \n",
       "4         28 Days Later  2002         53           R     Horror   \n",
       "\n",
       "               Director Length_Minutes IMDB_Rating Film_Count Body_Count_Min  \n",
       "0  Michael Winterbottom            117         7.3          1      0.0598291  \n",
       "1  Michael Winterbottom            117         7.3          1      0.0598291  \n",
       "2  Michael Winterbottom            117         7.3          1      0.0598291  \n",
       "3  Michael Winterbottom            117         7.3          1      0.0598291  \n",
       "4           Danny Boyle            113         7.6          1       0.469027  "
      ]
     },
     "execution_count": 19,
     "metadata": {},
     "output_type": "execute_result"
    }
   ],
   "source": [
    "df_genre.head()"
   ]
  },
  {
   "cell_type": "code",
   "execution_count": 20,
   "metadata": {},
   "outputs": [
    {
     "name": "stdout",
     "output_type": "stream",
     "text": [
      "<class 'pandas.core.frame.DataFrame'>\n",
      "Int64Index: 1682 entries, 0 to 1681\n",
      "Data columns (total 10 columns):\n",
      "Film              1682 non-null object\n",
      "Year              1682 non-null object\n",
      "Body_Count        1682 non-null object\n",
      "MPAA_Rating       1682 non-null object\n",
      "Genre             1682 non-null object\n",
      "Director          1682 non-null object\n",
      "Length_Minutes    1682 non-null object\n",
      "IMDB_Rating       1682 non-null object\n",
      "Film_Count        1682 non-null object\n",
      "Body_Count_Min    1682 non-null object\n",
      "dtypes: object(10)\n",
      "memory usage: 144.5+ KB\n"
     ]
    }
   ],
   "source": [
    "df_genre.info()"
   ]
  },
  {
   "cell_type": "code",
   "execution_count": 14,
   "metadata": {},
   "outputs": [
    {
     "name": "stdout",
     "output_type": "stream",
     "text": [
      "<class 'pandas.core.frame.DataFrame'>\n",
      "RangeIndex: 545 entries, 0 to 544\n",
      "Data columns (total 8 columns):\n",
      "Film              545 non-null object\n",
      "Year              545 non-null int64\n",
      "Body_Count        545 non-null int64\n",
      "MPAA_Rating       545 non-null object\n",
      "Genre             545 non-null object\n",
      "Director          545 non-null object\n",
      "Length_Minutes    545 non-null int64\n",
      "IMDB_Rating       545 non-null float64\n",
      "dtypes: float64(1), int64(3), object(4)\n",
      "memory usage: 34.1+ KB\n"
     ]
    }
   ],
   "source": [
    "movies.info()"
   ]
  },
  {
   "cell_type": "markdown",
   "metadata": {},
   "source": [
    "Наши переменные после обработки функцией распознаются как текстовые. Давайте это исправим."
   ]
  },
  {
   "cell_type": "code",
   "execution_count": 21,
   "metadata": {},
   "outputs": [],
   "source": [
    "for col in ['Body_Count', 'Length_Minutes', 'Film_Count', 'Body_Count_Min']:\n",
    "    df_genre[col] = df_genre[col].astype(float)"
   ]
  },
  {
   "cell_type": "code",
   "execution_count": 22,
   "metadata": {},
   "outputs": [
    {
     "name": "stdout",
     "output_type": "stream",
     "text": [
      "<class 'pandas.core.frame.DataFrame'>\n",
      "Int64Index: 1682 entries, 0 to 1681\n",
      "Data columns (total 10 columns):\n",
      "Film              1682 non-null object\n",
      "Year              1682 non-null object\n",
      "Body_Count        1682 non-null float64\n",
      "MPAA_Rating       1682 non-null object\n",
      "Genre             1682 non-null object\n",
      "Director          1682 non-null object\n",
      "Length_Minutes    1682 non-null float64\n",
      "IMDB_Rating       1682 non-null object\n",
      "Film_Count        1682 non-null float64\n",
      "Body_Count_Min    1682 non-null float64\n",
      "dtypes: float64(4), object(6)\n",
      "memory usage: 144.5+ KB\n"
     ]
    }
   ],
   "source": [
    "df_genre.info()"
   ]
  },
  {
   "cell_type": "markdown",
   "metadata": {},
   "source": [
    "Обратите внимание, что мы работаем с таким датасетом, где один и тот же фильм может встречаться несколько раз (это связано с тем, что он может относиться к нескольким жанрам или имеет несколько режиссеров - эта информация добавляет дополнительные ряды). Поэтому при некоторых агрегациях будем выкидывать дубликаты из колонки Film, чтобы не было задвоения."
   ]
  },
  {
   "cell_type": "code",
   "execution_count": 109,
   "metadata": {},
   "outputs": [
    {
     "data": {
      "text/plain": [
       "(1751, 10)"
      ]
     },
     "execution_count": 109,
     "metadata": {},
     "output_type": "execute_result"
    }
   ],
   "source": [
    "movies.shape # размер оригинального датафрейма"
   ]
  },
  {
   "cell_type": "code",
   "execution_count": 110,
   "metadata": {},
   "outputs": [
    {
     "data": {
      "text/plain": [
       "(537, 10)"
      ]
     },
     "execution_count": 110,
     "metadata": {},
     "output_type": "execute_result"
    }
   ],
   "source": [
    "movies.drop_duplicates('Film').shape # размер датафрейма для уникальных фильмов"
   ]
  },
  {
   "cell_type": "markdown",
   "metadata": {},
   "source": [
    "Давайте сгруппируем фильмы по году и суммируем значения для того, чтобы построить столбчатый график."
   ]
  },
  {
   "cell_type": "markdown",
   "metadata": {},
   "source": [
    "## Агрегация по годам. Столбчатый график\n",
    "\n",
    "Давайте построим два столбчатых графика, которые показывают количество фильмов за каждый год и общее количество смертей на экране."
   ]
  },
  {
   "cell_type": "code",
   "execution_count": 23,
   "metadata": {},
   "outputs": [],
   "source": [
    "movies_year = movies.groupby('Year').sum()"
   ]
  },
  {
   "cell_type": "code",
   "execution_count": 24,
   "metadata": {},
   "outputs": [
    {
     "data": {
      "text/html": [
       "<div>\n",
       "<style scoped>\n",
       "    .dataframe tbody tr th:only-of-type {\n",
       "        vertical-align: middle;\n",
       "    }\n",
       "\n",
       "    .dataframe tbody tr th {\n",
       "        vertical-align: top;\n",
       "    }\n",
       "\n",
       "    .dataframe thead th {\n",
       "        text-align: right;\n",
       "    }\n",
       "</style>\n",
       "<table border=\"1\" class=\"dataframe\">\n",
       "  <thead>\n",
       "    <tr style=\"text-align: right;\">\n",
       "      <th></th>\n",
       "      <th>Body_Count</th>\n",
       "      <th>Length_Minutes</th>\n",
       "      <th>IMDB_Rating</th>\n",
       "      <th>Film_Count</th>\n",
       "      <th>Body_Count_Min</th>\n",
       "    </tr>\n",
       "    <tr>\n",
       "      <th>Year</th>\n",
       "      <th></th>\n",
       "      <th></th>\n",
       "      <th></th>\n",
       "      <th></th>\n",
       "      <th></th>\n",
       "    </tr>\n",
       "  </thead>\n",
       "  <tbody>\n",
       "    <tr>\n",
       "      <th>2007</th>\n",
       "      <td>4095</td>\n",
       "      <td>5475</td>\n",
       "      <td>327.8</td>\n",
       "      <td>48</td>\n",
       "      <td>35.992220</td>\n",
       "    </tr>\n",
       "    <tr>\n",
       "      <th>2008</th>\n",
       "      <td>1785</td>\n",
       "      <td>2850</td>\n",
       "      <td>170.9</td>\n",
       "      <td>26</td>\n",
       "      <td>16.522174</td>\n",
       "    </tr>\n",
       "    <tr>\n",
       "      <th>2009</th>\n",
       "      <td>605</td>\n",
       "      <td>1235</td>\n",
       "      <td>75.3</td>\n",
       "      <td>11</td>\n",
       "      <td>5.708305</td>\n",
       "    </tr>\n",
       "    <tr>\n",
       "      <th>2010</th>\n",
       "      <td>519</td>\n",
       "      <td>463</td>\n",
       "      <td>29.0</td>\n",
       "      <td>4</td>\n",
       "      <td>4.528441</td>\n",
       "    </tr>\n",
       "    <tr>\n",
       "      <th>2013</th>\n",
       "      <td>156</td>\n",
       "      <td>119</td>\n",
       "      <td>6.5</td>\n",
       "      <td>1</td>\n",
       "      <td>1.310924</td>\n",
       "    </tr>\n",
       "  </tbody>\n",
       "</table>\n",
       "</div>"
      ],
      "text/plain": [
       "      Body_Count  Length_Minutes  IMDB_Rating  Film_Count  Body_Count_Min\n",
       "Year                                                                     \n",
       "2007        4095            5475        327.8          48       35.992220\n",
       "2008        1785            2850        170.9          26       16.522174\n",
       "2009         605            1235         75.3          11        5.708305\n",
       "2010         519             463         29.0           4        4.528441\n",
       "2013         156             119          6.5           1        1.310924"
      ]
     },
     "execution_count": 24,
     "metadata": {},
     "output_type": "execute_result"
    }
   ],
   "source": [
    "movies_year.tail()"
   ]
  },
  {
   "cell_type": "code",
   "execution_count": 25,
   "metadata": {},
   "outputs": [
    {
     "data": {
      "text/plain": [
       "Text(0.5,1,'Total Body Count')"
      ]
     },
     "execution_count": 25,
     "metadata": {},
     "output_type": "execute_result"
    },
    {
     "data": {
      "image/png": "[encoded data removed]",
      "text/plain": [
       "<Figure size 1152x1080 with 2 Axes>"
      ]
     },
     "metadata": {},
     "output_type": "display_data"
    }
   ],
   "source": [
    "fig, ax = plt.subplots(2, 1, figsize=(16, 15))\n",
    "\n",
    "# обратите внимание, что здесь меняем синтаксис - делаем график, применяем метод plot из пандас к колонке. \n",
    "# И уже в параметрах этого метода прописываем тип графика и ось координат, на которую хотим его положить. \n",
    "# При таком подходе у нас каждый год отобразится на оси координат\n",
    "\n",
    "movies_year['Film_Count'].plot(kind='bar', ax=ax[0], color = '#ffa500')\n",
    "ax[0].set_title('Film Count')\n",
    "\n",
    "movies_year['Body_Count'].plot(kind='bar', ax=ax[1], color = 'grey')\n",
    "ax[1].set_title('Total Body Count')"
   ]
  },
  {
   "cell_type": "markdown",
   "metadata": {},
   "source": [
    "## Агрегация по фильмам. Сортировка по значения. Горизонтальный столбчатый график"
   ]
  },
  {
   "cell_type": "markdown",
   "metadata": {},
   "source": [
    "Сейчас мы сгруппируем датасет по фильмам, найдем 10 самых жестоких и визуализируем их."
   ]
  },
  {
   "cell_type": "code",
   "execution_count": 26,
   "metadata": {},
   "outputs": [
    {
     "data": {
      "text/html": [
       "<div>\n",
       "<style scoped>\n",
       "    .dataframe tbody tr th:only-of-type {\n",
       "        vertical-align: middle;\n",
       "    }\n",
       "\n",
       "    .dataframe tbody tr th {\n",
       "        vertical-align: top;\n",
       "    }\n",
       "\n",
       "    .dataframe thead th {\n",
       "        text-align: right;\n",
       "    }\n",
       "</style>\n",
       "<table border=\"1\" class=\"dataframe\">\n",
       "  <thead>\n",
       "    <tr style=\"text-align: right;\">\n",
       "      <th></th>\n",
       "      <th>Year</th>\n",
       "      <th>Body_Count</th>\n",
       "      <th>MPAA_Rating</th>\n",
       "      <th>Genre</th>\n",
       "      <th>Director</th>\n",
       "      <th>Length_Minutes</th>\n",
       "      <th>IMDB_Rating</th>\n",
       "      <th>Film_Count</th>\n",
       "      <th>Body_Count_Min</th>\n",
       "    </tr>\n",
       "    <tr>\n",
       "      <th>Film</th>\n",
       "      <th></th>\n",
       "      <th></th>\n",
       "      <th></th>\n",
       "      <th></th>\n",
       "      <th></th>\n",
       "      <th></th>\n",
       "      <th></th>\n",
       "      <th></th>\n",
       "      <th></th>\n",
       "    </tr>\n",
       "  </thead>\n",
       "  <tbody>\n",
       "    <tr>\n",
       "      <th>24 Hour Party People</th>\n",
       "      <td>2002</td>\n",
       "      <td>7</td>\n",
       "      <td>R</td>\n",
       "      <td>Biography|Comedy|Drama|Music</td>\n",
       "      <td>Michael Winterbottom</td>\n",
       "      <td>117</td>\n",
       "      <td>7.3</td>\n",
       "      <td>1</td>\n",
       "      <td>0.059829</td>\n",
       "    </tr>\n",
       "    <tr>\n",
       "      <th>28 Days Later</th>\n",
       "      <td>2002</td>\n",
       "      <td>53</td>\n",
       "      <td>R</td>\n",
       "      <td>Horror|Sci-Fi|Thriller</td>\n",
       "      <td>Danny Boyle</td>\n",
       "      <td>113</td>\n",
       "      <td>7.6</td>\n",
       "      <td>1</td>\n",
       "      <td>0.469027</td>\n",
       "    </tr>\n",
       "    <tr>\n",
       "      <th>28 Weeks Later</th>\n",
       "      <td>2007</td>\n",
       "      <td>212</td>\n",
       "      <td>R</td>\n",
       "      <td>Horror|Sci-Fi|Thriller</td>\n",
       "      <td>Juan Carlos Fresnadillo</td>\n",
       "      <td>100</td>\n",
       "      <td>7.0</td>\n",
       "      <td>1</td>\n",
       "      <td>2.120000</td>\n",
       "    </tr>\n",
       "    <tr>\n",
       "      <th>30 Days of Night</th>\n",
       "      <td>2007</td>\n",
       "      <td>67</td>\n",
       "      <td>R</td>\n",
       "      <td>Horror|Thriller</td>\n",
       "      <td>David Slade</td>\n",
       "      <td>113</td>\n",
       "      <td>6.6</td>\n",
       "      <td>1</td>\n",
       "      <td>0.592920</td>\n",
       "    </tr>\n",
       "    <tr>\n",
       "      <th>300</th>\n",
       "      <td>2007</td>\n",
       "      <td>600</td>\n",
       "      <td>R</td>\n",
       "      <td>Action|Fantasy|History|War</td>\n",
       "      <td>Zack Snyder</td>\n",
       "      <td>117</td>\n",
       "      <td>7.7</td>\n",
       "      <td>1</td>\n",
       "      <td>5.128205</td>\n",
       "    </tr>\n",
       "  </tbody>\n",
       "</table>\n",
       "</div>"
      ],
      "text/plain": [
       "                      Year  Body_Count MPAA_Rating  \\\n",
       "Film                                                 \n",
       "24 Hour Party People  2002           7           R   \n",
       "28 Days Later         2002          53           R   \n",
       "28 Weeks Later        2007         212           R   \n",
       "30 Days of Night      2007          67           R   \n",
       "300                   2007         600           R   \n",
       "\n",
       "                                             Genre                 Director  \\\n",
       "Film                                                                          \n",
       "24 Hour Party People  Biography|Comedy|Drama|Music     Michael Winterbottom   \n",
       "28 Days Later               Horror|Sci-Fi|Thriller              Danny Boyle   \n",
       "28 Weeks Later              Horror|Sci-Fi|Thriller  Juan Carlos Fresnadillo   \n",
       "30 Days of Night                   Horror|Thriller              David Slade   \n",
       "300                     Action|Fantasy|History|War              Zack Snyder   \n",
       "\n",
       "                      Length_Minutes  IMDB_Rating  Film_Count  Body_Count_Min  \n",
       "Film                                                                           \n",
       "24 Hour Party People             117          7.3           1        0.059829  \n",
       "28 Days Later                    113          7.6           1        0.469027  \n",
       "28 Weeks Later                   100          7.0           1        2.120000  \n",
       "30 Days of Night                 113          6.6           1        0.592920  \n",
       "300                              117          7.7           1        5.128205  "
      ]
     },
     "execution_count": 26,
     "metadata": {},
     "output_type": "execute_result"
    }
   ],
   "source": [
    "movies_film = movies.set_index('Film') # агрегируем и делаем индексом название фильма, так как индекс станет шкалой\n",
    "movies_film.head()"
   ]
  },
  {
   "cell_type": "code",
   "execution_count": 27,
   "metadata": {},
   "outputs": [
    {
     "data": {
      "text/plain": [
       "Film\n",
       "King Arthur                              378\n",
       "Windtalkers                              389\n",
       "Lord of the Rings: Two Towers            468\n",
       "A Fistful of Dynamite                    471\n",
       "The Last Samurai                         558\n",
       "Troy                                     572\n",
       "Tae Guk Gi: The Brotherhood of War       590\n",
       "300                                      600\n",
       "Kingdom of Heaven                        610\n",
       "Lord of the Rings: Return of the King    836\n",
       "Name: Body_Count, dtype: int64"
      ]
     },
     "execution_count": 27,
     "metadata": {},
     "output_type": "execute_result"
    }
   ],
   "source": [
    "movies_film.sort_values(by=['Body_Count'])['Body_Count'].tail(10) # сортируем и берем 10 последних значений"
   ]
  },
  {
   "cell_type": "code",
   "execution_count": 28,
   "metadata": {},
   "outputs": [
    {
     "data": {
      "image/png": "[encoded data removed]",
      "text/plain": [
       "<Figure size 720x576 with 2 Axes>"
      ]
     },
     "metadata": {},
     "output_type": "display_data"
    }
   ],
   "source": [
    "fig, ax = plt.subplots(nrows=1, ncols=2, figsize=(10, 8))\n",
    "\n",
    "# график для количества убитых людей в фильме. Горизонтальный график делаем параметром barh (bar horizontal)\n",
    "movies_film.sort_values(by=['Body_Count'])['Body_Count'].tail(10).plot(kind='barh', ax=ax[0]) \n",
    "ax[0].set_title('Total Body Count')\n",
    "\n",
    "movies_film.sort_values(by=['Body_Count_Min'])['Body_Count_Min'].tail(10).plot(kind='barh', ax=ax[1]) # для количества убитых людей на минуту фильма\n",
    "\n",
    "ax[1].set_title('Body Count per Minute')\n",
    "ax[1].yaxis.set_ticks_position('right')\n",
    "\n",
    "for i in range(2):\n",
    "    ax[i].set_ylabel('', visible=False) # убираем подпись к шкале, которая генерируется автоматически\n"
   ]
  },
  {
   "cell_type": "markdown",
   "metadata": {},
   "source": [
    "# Рейтинги: график рассеяния для категориальной переменной"
   ]
  },
  {
   "cell_type": "markdown",
   "metadata": {},
   "source": [
    "Графики рассеяния для категориальных переменных тоже имеют место быть. В данном случае у нас будет категориальная переменная по x (буквенный рейтинг фильма). Такой график помогает нам увидеть разброс значений в рамках категорий, а также некоторые корелляции и зависимости. Не забывайте только добавлять прозрачность, потому что в случае категориальных переменных большое количество точек может накладываться друг на друга.\n"
   ]
  },
  {
   "cell_type": "code",
   "execution_count": 29,
   "metadata": {},
   "outputs": [
    {
     "data": {
      "text/plain": [
       "R           338\n",
       "PG-13       118\n",
       "PG           35\n",
       "Unrated      28\n",
       "Approved      9\n",
       "M             5\n",
       "GP            4\n",
       "X             4\n",
       "G             3\n",
       "NR            1\n",
       "Name: MPAA_Rating, dtype: int64"
      ]
     },
     "execution_count": 29,
     "metadata": {},
     "output_type": "execute_result"
    }
   ],
   "source": [
    "movies['MPAA_Rating'].value_counts()"
   ]
  },
  {
   "cell_type": "markdown",
   "metadata": {},
   "source": [
    "**Упражнение:**\n",
    "    \n",
    "Постройте график рассеяния для MPAA_Rating по шкале x, Body_Count_Min по y и в качестве размера точки возьмите абсолютное значение Body Count."
   ]
  },
  {
   "cell_type": "code",
   "execution_count": 30,
   "metadata": {},
   "outputs": [
    {
     "data": {
      "text/plain": [
       "Text(0,0.5,'Body count per minute')"
      ]
     },
     "execution_count": 30,
     "metadata": {},
     "output_type": "execute_result"
    },
    {
     "data": {
      "image/png": "[encoded data removed]",
      "text/plain": [
       "<Figure size 1008x720 with 1 Axes>"
      ]
     },
     "metadata": {},
     "output_type": "display_data"
    }
   ],
   "source": [
    "fig, ax = plt.subplots(figsize=(14, 10))\n",
    "\n",
    "ax.scatter(movies['MPAA_Rating'], movies['Body_Count_Min'], s=movies['Body_Count'], alpha=.2)\n",
    "ax.set_title('Body counts and MPAA ratings')\n",
    "ax.set_xlabel('MPAA Rating')\n",
    "ax.set_ylabel('Body count per minute')\n"
   ]
  },
  {
   "cell_type": "markdown",
   "metadata": {},
   "source": [
    "Проинтерпретируйте график."
   ]
  },
  {
   "cell_type": "markdown",
   "metadata": {},
   "source": [
    "Так же для работы с такими данными могут понадобиться такие графики, как swarmplot (например, есть в библиотеке seaborn). В таком графике столбец переменной немного расширен, что позволяет точкам немного распределиться по горизонтали.\n",
    "\n",
    "https://seaborn.pydata.org/generated/seaborn.swarmplot.html"
   ]
  },
  {
   "cell_type": "code",
   "execution_count": 31,
   "metadata": {},
   "outputs": [
    {
     "data": {
      "text/plain": [
       "<matplotlib.axes._subplots.AxesSubplot at 0x25fe853fac8>"
      ]
     },
     "execution_count": 31,
     "metadata": {},
     "output_type": "execute_result"
    },
    {
     "data": {
      "image/png": "[encoded data removed]",
      "text/plain": [
       "<Figure size 1440x720 with 1 Axes>"
      ]
     },
     "metadata": {},
     "output_type": "display_data"
    }
   ],
   "source": [
    "import seaborn as sns\n",
    "\n",
    "fig, ax = plt.subplots(1,1, figsize = (20,10))\n",
    "\n",
    "sns.swarmplot(movies['MPAA_Rating'], movies['Body_Count_Min'])"
   ]
  },
  {
   "cell_type": "markdown",
   "metadata": {},
   "source": [
    "# Рейтинги: график рассеяния, подписываем фильмы"
   ]
  },
  {
   "cell_type": "markdown",
   "metadata": {},
   "source": [
    "Давайте построим график рассеяния для рейтинга imbd и body count per minute. А так же подпишем значения для трех самых жестоких фильмов."
   ]
  },
  {
   "cell_type": "code",
   "execution_count": 32,
   "metadata": {},
   "outputs": [
    {
     "data": {
      "text/html": [
       "<div>\n",
       "<style scoped>\n",
       "    .dataframe tbody tr th:only-of-type {\n",
       "        vertical-align: middle;\n",
       "    }\n",
       "\n",
       "    .dataframe tbody tr th {\n",
       "        vertical-align: top;\n",
       "    }\n",
       "\n",
       "    .dataframe thead th {\n",
       "        text-align: right;\n",
       "    }\n",
       "</style>\n",
       "<table border=\"1\" class=\"dataframe\">\n",
       "  <thead>\n",
       "    <tr style=\"text-align: right;\">\n",
       "      <th></th>\n",
       "      <th>Film</th>\n",
       "      <th>Year</th>\n",
       "      <th>Body_Count</th>\n",
       "      <th>MPAA_Rating</th>\n",
       "      <th>Genre</th>\n",
       "      <th>Director</th>\n",
       "      <th>Length_Minutes</th>\n",
       "      <th>IMDB_Rating</th>\n",
       "      <th>Film_Count</th>\n",
       "      <th>Body_Count_Min</th>\n",
       "    </tr>\n",
       "  </thead>\n",
       "  <tbody>\n",
       "    <tr>\n",
       "      <th>241</th>\n",
       "      <td>Lord of the Rings: Return of the King</td>\n",
       "      <td>2003</td>\n",
       "      <td>836</td>\n",
       "      <td>PG-13</td>\n",
       "      <td>Action|Adventure|Fantasy</td>\n",
       "      <td>Peter Jackson</td>\n",
       "      <td>201</td>\n",
       "      <td>8.9</td>\n",
       "      <td>1</td>\n",
       "      <td>4.159204</td>\n",
       "    </tr>\n",
       "    <tr>\n",
       "      <th>217</th>\n",
       "      <td>Kingdom of Heaven</td>\n",
       "      <td>2005</td>\n",
       "      <td>610</td>\n",
       "      <td>R</td>\n",
       "      <td>Action|Adventure|Drama|History|War</td>\n",
       "      <td>Ridley Scott</td>\n",
       "      <td>144</td>\n",
       "      <td>7.1</td>\n",
       "      <td>1</td>\n",
       "      <td>4.236111</td>\n",
       "    </tr>\n",
       "    <tr>\n",
       "      <th>4</th>\n",
       "      <td>300</td>\n",
       "      <td>2007</td>\n",
       "      <td>600</td>\n",
       "      <td>R</td>\n",
       "      <td>Action|Fantasy|History|War</td>\n",
       "      <td>Zack Snyder</td>\n",
       "      <td>117</td>\n",
       "      <td>7.7</td>\n",
       "      <td>1</td>\n",
       "      <td>5.128205</td>\n",
       "    </tr>\n",
       "  </tbody>\n",
       "</table>\n",
       "</div>"
      ],
      "text/plain": [
       "                                      Film  Year  Body_Count MPAA_Rating  \\\n",
       "241  Lord of the Rings: Return of the King  2003         836       PG-13   \n",
       "217                      Kingdom of Heaven  2005         610           R   \n",
       "4                                      300  2007         600           R   \n",
       "\n",
       "                                  Genre       Director  Length_Minutes  \\\n",
       "241            Action|Adventure|Fantasy  Peter Jackson             201   \n",
       "217  Action|Adventure|Drama|History|War   Ridley Scott             144   \n",
       "4            Action|Fantasy|History|War    Zack Snyder             117   \n",
       "\n",
       "     IMDB_Rating  Film_Count  Body_Count_Min  \n",
       "241          8.9           1        4.159204  \n",
       "217          7.1           1        4.236111  \n",
       "4            7.7           1        5.128205  "
      ]
     },
     "execution_count": 32,
     "metadata": {},
     "output_type": "execute_result"
    }
   ],
   "source": [
    "movies.sort_values(by=['Body_Count'], ascending=False).head(3) # находим три самых жестоких фильма\n"
   ]
  },
  {
   "cell_type": "code",
   "execution_count": 33,
   "metadata": {},
   "outputs": [
    {
     "data": {
      "text/plain": [
       "[['Lord of the Rings: Return of the King', 8.9, 4.159203980099503],\n",
       " ['Kingdom of Heaven', 7.1, 4.236111111111111],\n",
       " ['300', 7.7, 5.128205128205129]]"
      ]
     },
     "execution_count": 33,
     "metadata": {},
     "output_type": "execute_result"
    }
   ],
   "source": [
    "bc_top = movies.drop_duplicates('Film').sort_values(by=['Body_Count'], ascending=False).head(3) # сохраним датафрейм из трех фильмов\n",
    "annotations = []\n",
    "for r in range(len(bc_top)): # сделаем цикл, который сложит нам в список тройки \"название фильма - рейтинг - количество убийств на минуту фильма\"\n",
    "    annotations.append([bc_top['Film'].iloc[r], bc_top['IMDB_Rating'].iloc[r], bc_top['Body_Count_Min'].iloc[r]])\n",
    "annotations"
   ]
  },
  {
   "cell_type": "markdown",
   "metadata": {},
   "source": [
    "**Упражнение:**\n",
    "\n",
    "Сделайте график рассеяния для рейтинга imdb по x, body count per minute для y, и body count для размера точки. Если не успеваем - посмотрите дома самостоятельно, как сделать подписи."
   ]
  },
  {
   "cell_type": "code",
   "execution_count": 34,
   "metadata": {},
   "outputs": [
    {
     "data": {
      "image/png": "[encoded data removed]",
      "text/plain": [
       "<Figure size 1008x720 with 1 Axes>"
      ]
     },
     "metadata": {},
     "output_type": "display_data"
    }
   ],
   "source": [
    "fig, ax = plt.subplots(figsize=(14, 10))\n",
    "\n",
    "ax.scatter(movies['IMDB_Rating'], movies['Body_Count_Min'], s=movies['Body_Count'], alpha=.5)\n",
    "ax.set_title('Body count and IMDB ratings')\n",
    "ax.set_xlabel('IMDB Rating')\n",
    "ax.set_ylabel('Body count per minute')\n",
    "\n",
    "for annotation, x, y in annotations: # идем в наш список с тремя фильмами и итерируемся по нему\n",
    "    plt.annotate(   # функция, которая подпишет наблюдения в нашем графики\n",
    "        annotation, # обращаемся к названию фильма\n",
    "        xy=(x, y),  # задаем координаты точек\n",
    "        xytext=(0, 30), # задаем координаты текста (смещение на 30 единиц вверх по y)\n",
    "        textcoords='offset points',\n",
    "        ha='center',\n",
    "        va='bottom',\n",
    "        size=12.5,\n",
    "        bbox=dict(boxstyle='round,pad=0.5', fc='yellow', alpha=0.5),\n",
    "        arrowprops=dict(arrowstyle='-'))"
   ]
  },
  {
   "cell_type": "markdown",
   "metadata": {},
   "source": [
    "## Делаем совмещенные столбчатые диграммы из агрегированных данных\n",
    "\n",
    "А теперь давайте посмотрим как передавать в функцию группировки несколько функций."
   ]
  },
  {
   "cell_type": "code",
   "execution_count": 42,
   "metadata": {},
   "outputs": [
    {
     "data": {
      "text/html": [
       "<div>\n",
       "<style scoped>\n",
       "    .dataframe tbody tr th:only-of-type {\n",
       "        vertical-align: middle;\n",
       "    }\n",
       "\n",
       "    .dataframe tbody tr th {\n",
       "        vertical-align: top;\n",
       "    }\n",
       "\n",
       "    .dataframe thead tr th {\n",
       "        text-align: left;\n",
       "    }\n",
       "\n",
       "    .dataframe thead tr:last-of-type th {\n",
       "        text-align: right;\n",
       "    }\n",
       "</style>\n",
       "<table border=\"1\" class=\"dataframe\">\n",
       "  <thead>\n",
       "    <tr>\n",
       "      <th></th>\n",
       "      <th colspan=\"2\" halign=\"left\">Body_Count</th>\n",
       "      <th colspan=\"2\" halign=\"left\">Length_Minutes</th>\n",
       "      <th colspan=\"2\" halign=\"left\">IMDB_Rating</th>\n",
       "      <th colspan=\"2\" halign=\"left\">Film_Count</th>\n",
       "      <th colspan=\"2\" halign=\"left\">Body_Count_Min</th>\n",
       "    </tr>\n",
       "    <tr>\n",
       "      <th></th>\n",
       "      <th>mean</th>\n",
       "      <th>median</th>\n",
       "      <th>mean</th>\n",
       "      <th>median</th>\n",
       "      <th>mean</th>\n",
       "      <th>median</th>\n",
       "      <th>mean</th>\n",
       "      <th>median</th>\n",
       "      <th>mean</th>\n",
       "      <th>median</th>\n",
       "    </tr>\n",
       "    <tr>\n",
       "      <th>Year</th>\n",
       "      <th></th>\n",
       "      <th></th>\n",
       "      <th></th>\n",
       "      <th></th>\n",
       "      <th></th>\n",
       "      <th></th>\n",
       "      <th></th>\n",
       "      <th></th>\n",
       "      <th></th>\n",
       "      <th></th>\n",
       "    </tr>\n",
       "  </thead>\n",
       "  <tbody>\n",
       "    <tr>\n",
       "      <th>1949</th>\n",
       "      <td>4.0</td>\n",
       "      <td>4.0</td>\n",
       "      <td>104.0</td>\n",
       "      <td>104.0</td>\n",
       "      <td>8.4</td>\n",
       "      <td>8.4</td>\n",
       "      <td>1</td>\n",
       "      <td>1</td>\n",
       "      <td>0.038462</td>\n",
       "      <td>0.038462</td>\n",
       "    </tr>\n",
       "    <tr>\n",
       "      <th>1954</th>\n",
       "      <td>57.5</td>\n",
       "      <td>57.5</td>\n",
       "      <td>150.0</td>\n",
       "      <td>150.0</td>\n",
       "      <td>8.2</td>\n",
       "      <td>8.2</td>\n",
       "      <td>1</td>\n",
       "      <td>1</td>\n",
       "      <td>0.425822</td>\n",
       "      <td>0.425822</td>\n",
       "    </tr>\n",
       "    <tr>\n",
       "      <th>1957</th>\n",
       "      <td>67.0</td>\n",
       "      <td>67.0</td>\n",
       "      <td>88.0</td>\n",
       "      <td>88.0</td>\n",
       "      <td>8.5</td>\n",
       "      <td>8.5</td>\n",
       "      <td>1</td>\n",
       "      <td>1</td>\n",
       "      <td>0.761364</td>\n",
       "      <td>0.761364</td>\n",
       "    </tr>\n",
       "    <tr>\n",
       "      <th>1959</th>\n",
       "      <td>7.0</td>\n",
       "      <td>7.0</td>\n",
       "      <td>79.0</td>\n",
       "      <td>79.0</td>\n",
       "      <td>3.9</td>\n",
       "      <td>3.9</td>\n",
       "      <td>1</td>\n",
       "      <td>1</td>\n",
       "      <td>0.088608</td>\n",
       "      <td>0.088608</td>\n",
       "    </tr>\n",
       "    <tr>\n",
       "      <th>1960</th>\n",
       "      <td>55.0</td>\n",
       "      <td>55.0</td>\n",
       "      <td>128.0</td>\n",
       "      <td>128.0</td>\n",
       "      <td>7.8</td>\n",
       "      <td>7.8</td>\n",
       "      <td>1</td>\n",
       "      <td>1</td>\n",
       "      <td>0.429688</td>\n",
       "      <td>0.429688</td>\n",
       "    </tr>\n",
       "  </tbody>\n",
       "</table>\n",
       "</div>"
      ],
      "text/plain": [
       "     Body_Count        Length_Minutes        IMDB_Rating        Film_Count  \\\n",
       "           mean median           mean median        mean median       mean   \n",
       "Year                                                                         \n",
       "1949        4.0    4.0          104.0  104.0         8.4    8.4          1   \n",
       "1954       57.5   57.5          150.0  150.0         8.2    8.2          1   \n",
       "1957       67.0   67.0           88.0   88.0         8.5    8.5          1   \n",
       "1959        7.0    7.0           79.0   79.0         3.9    3.9          1   \n",
       "1960       55.0   55.0          128.0  128.0         7.8    7.8          1   \n",
       "\n",
       "            Body_Count_Min            \n",
       "     median           mean    median  \n",
       "Year                                  \n",
       "1949      1       0.038462  0.038462  \n",
       "1954      1       0.425822  0.425822  \n",
       "1957      1       0.761364  0.761364  \n",
       "1959      1       0.088608  0.088608  \n",
       "1960      1       0.429688  0.429688  "
      ]
     },
     "execution_count": 42,
     "metadata": {},
     "output_type": "execute_result"
    }
   ],
   "source": [
    "group_year = movies.groupby('Year').agg([np.mean, np.median])\n",
    "group_year.head()"
   ]
  },
  {
   "cell_type": "code",
   "execution_count": 43,
   "metadata": {},
   "outputs": [
    {
     "data": {
      "text/html": [
       "<div>\n",
       "<style scoped>\n",
       "    .dataframe tbody tr th:only-of-type {\n",
       "        vertical-align: middle;\n",
       "    }\n",
       "\n",
       "    .dataframe tbody tr th {\n",
       "        vertical-align: top;\n",
       "    }\n",
       "\n",
       "    .dataframe thead th {\n",
       "        text-align: right;\n",
       "    }\n",
       "</style>\n",
       "<table border=\"1\" class=\"dataframe\">\n",
       "  <thead>\n",
       "    <tr style=\"text-align: right;\">\n",
       "      <th></th>\n",
       "      <th>mean</th>\n",
       "      <th>median</th>\n",
       "    </tr>\n",
       "    <tr>\n",
       "      <th>Year</th>\n",
       "      <th></th>\n",
       "      <th></th>\n",
       "    </tr>\n",
       "  </thead>\n",
       "  <tbody>\n",
       "    <tr>\n",
       "      <th>1949</th>\n",
       "      <td>4.0</td>\n",
       "      <td>4.0</td>\n",
       "    </tr>\n",
       "    <tr>\n",
       "      <th>1954</th>\n",
       "      <td>57.5</td>\n",
       "      <td>57.5</td>\n",
       "    </tr>\n",
       "    <tr>\n",
       "      <th>1957</th>\n",
       "      <td>67.0</td>\n",
       "      <td>67.0</td>\n",
       "    </tr>\n",
       "    <tr>\n",
       "      <th>1959</th>\n",
       "      <td>7.0</td>\n",
       "      <td>7.0</td>\n",
       "    </tr>\n",
       "    <tr>\n",
       "      <th>1960</th>\n",
       "      <td>55.0</td>\n",
       "      <td>55.0</td>\n",
       "    </tr>\n",
       "  </tbody>\n",
       "</table>\n",
       "</div>"
      ],
      "text/plain": [
       "      mean  median\n",
       "Year              \n",
       "1949   4.0     4.0\n",
       "1954  57.5    57.5\n",
       "1957  67.0    67.0\n",
       "1959   7.0     7.0\n",
       "1960  55.0    55.0"
      ]
     },
     "execution_count": 43,
     "metadata": {},
     "output_type": "execute_result"
    }
   ],
   "source": [
    "bc = group_year['Body_Count']\n",
    "bc.head()"
   ]
  },
  {
   "cell_type": "code",
   "execution_count": 44,
   "metadata": {},
   "outputs": [
    {
     "data": {
      "text/html": [
       "<div>\n",
       "<style scoped>\n",
       "    .dataframe tbody tr th:only-of-type {\n",
       "        vertical-align: middle;\n",
       "    }\n",
       "\n",
       "    .dataframe tbody tr th {\n",
       "        vertical-align: top;\n",
       "    }\n",
       "\n",
       "    .dataframe thead th {\n",
       "        text-align: right;\n",
       "    }\n",
       "</style>\n",
       "<table border=\"1\" class=\"dataframe\">\n",
       "  <thead>\n",
       "    <tr style=\"text-align: right;\">\n",
       "      <th></th>\n",
       "      <th>mean</th>\n",
       "      <th>median</th>\n",
       "    </tr>\n",
       "    <tr>\n",
       "      <th>Year</th>\n",
       "      <th></th>\n",
       "      <th></th>\n",
       "    </tr>\n",
       "  </thead>\n",
       "  <tbody>\n",
       "    <tr>\n",
       "      <th>1949</th>\n",
       "      <td>0.038462</td>\n",
       "      <td>0.038462</td>\n",
       "    </tr>\n",
       "    <tr>\n",
       "      <th>1954</th>\n",
       "      <td>0.425822</td>\n",
       "      <td>0.425822</td>\n",
       "    </tr>\n",
       "    <tr>\n",
       "      <th>1957</th>\n",
       "      <td>0.761364</td>\n",
       "      <td>0.761364</td>\n",
       "    </tr>\n",
       "    <tr>\n",
       "      <th>1959</th>\n",
       "      <td>0.088608</td>\n",
       "      <td>0.088608</td>\n",
       "    </tr>\n",
       "    <tr>\n",
       "      <th>1960</th>\n",
       "      <td>0.429688</td>\n",
       "      <td>0.429688</td>\n",
       "    </tr>\n",
       "  </tbody>\n",
       "</table>\n",
       "</div>"
      ],
      "text/plain": [
       "          mean    median\n",
       "Year                    \n",
       "1949  0.038462  0.038462\n",
       "1954  0.425822  0.425822\n",
       "1957  0.761364  0.761364\n",
       "1959  0.088608  0.088608\n",
       "1960  0.429688  0.429688"
      ]
     },
     "execution_count": 44,
     "metadata": {},
     "output_type": "execute_result"
    }
   ],
   "source": [
    "bc_min = group_year['Body_Count_Min']\n",
    "bc_min.head()"
   ]
  },
  {
   "cell_type": "code",
   "execution_count": 45,
   "metadata": {},
   "outputs": [
    {
     "data": {
      "text/plain": [
       "Text(0.5,1,'Body Count by Minute')"
      ]
     },
     "execution_count": 45,
     "metadata": {},
     "output_type": "execute_result"
    },
    {
     "data": {
      "image/png": "[encoded data removed]",
      "text/plain": [
       "<Figure size 1152x1080 with 2 Axes>"
      ]
     },
     "metadata": {},
     "output_type": "display_data"
    }
   ],
   "source": [
    "fig, ax = plt.subplots(2, 1, figsize=(16, 15))\n",
    "\n",
    "bc.plot(kind='bar', ax=ax[0])\n",
    "ax[0].set_title('Body Count by Film')\n",
    "\n",
    "bc_min.plot(kind='bar', ax=ax[1])\n",
    "ax[1].set_title('Body Count by Minute')\n",
    "  "
   ]
  },
  {
   "cell_type": "markdown",
   "metadata": {},
   "source": [
    "## Упражнение: по аналогии с фильмами найдите самых жестоких режиссеров"
   ]
  },
  {
   "cell_type": "code",
   "execution_count": 46,
   "metadata": {},
   "outputs": [],
   "source": [
    "movies_dir = movies.groupby('Director').sum().sort_values(by=['Body_Count']).tail(10)"
   ]
  },
  {
   "cell_type": "code",
   "execution_count": 47,
   "metadata": {},
   "outputs": [
    {
     "data": {
      "text/html": [
       "<div>\n",
       "<style scoped>\n",
       "    .dataframe tbody tr th:only-of-type {\n",
       "        vertical-align: middle;\n",
       "    }\n",
       "\n",
       "    .dataframe tbody tr th {\n",
       "        vertical-align: top;\n",
       "    }\n",
       "\n",
       "    .dataframe thead th {\n",
       "        text-align: right;\n",
       "    }\n",
       "</style>\n",
       "<table border=\"1\" class=\"dataframe\">\n",
       "  <thead>\n",
       "    <tr style=\"text-align: right;\">\n",
       "      <th></th>\n",
       "      <th>Year</th>\n",
       "      <th>Body_Count</th>\n",
       "      <th>Length_Minutes</th>\n",
       "      <th>IMDB_Rating</th>\n",
       "      <th>Film_Count</th>\n",
       "      <th>Body_Count_Min</th>\n",
       "    </tr>\n",
       "    <tr>\n",
       "      <th>Director</th>\n",
       "      <th></th>\n",
       "      <th></th>\n",
       "      <th></th>\n",
       "      <th></th>\n",
       "      <th></th>\n",
       "      <th></th>\n",
       "    </tr>\n",
       "  </thead>\n",
       "  <tbody>\n",
       "    <tr>\n",
       "      <th>Je-kyu Kang</th>\n",
       "      <td>2004</td>\n",
       "      <td>590</td>\n",
       "      <td>140</td>\n",
       "      <td>8.1</td>\n",
       "      <td>1</td>\n",
       "      <td>4.214286</td>\n",
       "    </tr>\n",
       "    <tr>\n",
       "      <th>Steven Spielberg</th>\n",
       "      <td>17965</td>\n",
       "      <td>707</td>\n",
       "      <td>1271</td>\n",
       "      <td>70.1</td>\n",
       "      <td>9</td>\n",
       "      <td>4.864878</td>\n",
       "    </tr>\n",
       "    <tr>\n",
       "      <th>Antoine Fuqua</th>\n",
       "      <td>10025</td>\n",
       "      <td>711</td>\n",
       "      <td>577</td>\n",
       "      <td>32.3</td>\n",
       "      <td>5</td>\n",
       "      <td>5.885269</td>\n",
       "    </tr>\n",
       "    <tr>\n",
       "      <th>Sergio Leone</th>\n",
       "      <td>7866</td>\n",
       "      <td>748</td>\n",
       "      <td>530</td>\n",
       "      <td>33.0</td>\n",
       "      <td>4</td>\n",
       "      <td>5.614844</td>\n",
       "    </tr>\n",
       "    <tr>\n",
       "      <th>Ridley Scott</th>\n",
       "      <td>11975</td>\n",
       "      <td>781</td>\n",
       "      <td>810</td>\n",
       "      <td>45.9</td>\n",
       "      <td>6</td>\n",
       "      <td>5.434938</td>\n",
       "    </tr>\n",
       "    <tr>\n",
       "      <th>Zack Snyder</th>\n",
       "      <td>6020</td>\n",
       "      <td>808</td>\n",
       "      <td>380</td>\n",
       "      <td>22.7</td>\n",
       "      <td>3</td>\n",
       "      <td>6.900543</td>\n",
       "    </tr>\n",
       "    <tr>\n",
       "      <th>Wolfgang Petersen</th>\n",
       "      <td>7988</td>\n",
       "      <td>889</td>\n",
       "      <td>534</td>\n",
       "      <td>27.5</td>\n",
       "      <td>4</td>\n",
       "      <td>6.457219</td>\n",
       "    </tr>\n",
       "    <tr>\n",
       "      <th>Edward Zwick</th>\n",
       "      <td>5998</td>\n",
       "      <td>1003</td>\n",
       "      <td>419</td>\n",
       "      <td>23.6</td>\n",
       "      <td>3</td>\n",
       "      <td>7.045823</td>\n",
       "    </tr>\n",
       "    <tr>\n",
       "      <th>John Woo</th>\n",
       "      <td>19930</td>\n",
       "      <td>1500</td>\n",
       "      <td>1181</td>\n",
       "      <td>69.9</td>\n",
       "      <td>10</td>\n",
       "      <td>12.307650</td>\n",
       "    </tr>\n",
       "    <tr>\n",
       "      <th>Peter Jackson</th>\n",
       "      <td>10003</td>\n",
       "      <td>1517</td>\n",
       "      <td>849</td>\n",
       "      <td>41.3</td>\n",
       "      <td>5</td>\n",
       "      <td>8.251953</td>\n",
       "    </tr>\n",
       "  </tbody>\n",
       "</table>\n",
       "</div>"
      ],
      "text/plain": [
       "                    Year  Body_Count  Length_Minutes  IMDB_Rating  Film_Count  \\\n",
       "Director                                                                        \n",
       "Je-kyu Kang         2004         590             140          8.1           1   \n",
       "Steven Spielberg   17965         707            1271         70.1           9   \n",
       "Antoine Fuqua      10025         711             577         32.3           5   \n",
       "Sergio Leone        7866         748             530         33.0           4   \n",
       "Ridley Scott       11975         781             810         45.9           6   \n",
       "Zack Snyder         6020         808             380         22.7           3   \n",
       "Wolfgang Petersen   7988         889             534         27.5           4   \n",
       "Edward Zwick        5998        1003             419         23.6           3   \n",
       "John Woo           19930        1500            1181         69.9          10   \n",
       "Peter Jackson      10003        1517             849         41.3           5   \n",
       "\n",
       "                   Body_Count_Min  \n",
       "Director                           \n",
       "Je-kyu Kang              4.214286  \n",
       "Steven Spielberg         4.864878  \n",
       "Antoine Fuqua            5.885269  \n",
       "Sergio Leone             5.614844  \n",
       "Ridley Scott             5.434938  \n",
       "Zack Snyder              6.900543  \n",
       "Wolfgang Petersen        6.457219  \n",
       "Edward Zwick             7.045823  \n",
       "John Woo                12.307650  \n",
       "Peter Jackson            8.251953  "
      ]
     },
     "execution_count": 47,
     "metadata": {},
     "output_type": "execute_result"
    }
   ],
   "source": [
    "movies_dir"
   ]
  },
  {
   "cell_type": "code",
   "execution_count": 48,
   "metadata": {},
   "outputs": [
    {
     "data": {
      "text/html": [
       "<div>\n",
       "<style scoped>\n",
       "    .dataframe tbody tr th:only-of-type {\n",
       "        vertical-align: middle;\n",
       "    }\n",
       "\n",
       "    .dataframe tbody tr th {\n",
       "        vertical-align: top;\n",
       "    }\n",
       "\n",
       "    .dataframe thead th {\n",
       "        text-align: right;\n",
       "    }\n",
       "</style>\n",
       "<table border=\"1\" class=\"dataframe\">\n",
       "  <thead>\n",
       "    <tr style=\"text-align: right;\">\n",
       "      <th></th>\n",
       "      <th>Year</th>\n",
       "      <th>Body_Count</th>\n",
       "      <th>Length_Minutes</th>\n",
       "      <th>IMDB_Rating</th>\n",
       "      <th>Film_Count</th>\n",
       "      <th>Body_Count_Min</th>\n",
       "    </tr>\n",
       "    <tr>\n",
       "      <th>Director</th>\n",
       "      <th></th>\n",
       "      <th></th>\n",
       "      <th></th>\n",
       "      <th></th>\n",
       "      <th></th>\n",
       "      <th></th>\n",
       "    </tr>\n",
       "  </thead>\n",
       "  <tbody>\n",
       "    <tr>\n",
       "      <th>Je-kyu Kang</th>\n",
       "      <td>2004</td>\n",
       "      <td>590</td>\n",
       "      <td>140</td>\n",
       "      <td>8.1</td>\n",
       "      <td>1</td>\n",
       "      <td>4.214286</td>\n",
       "    </tr>\n",
       "    <tr>\n",
       "      <th>Steven Spielberg</th>\n",
       "      <td>17965</td>\n",
       "      <td>707</td>\n",
       "      <td>1271</td>\n",
       "      <td>70.1</td>\n",
       "      <td>9</td>\n",
       "      <td>4.864878</td>\n",
       "    </tr>\n",
       "    <tr>\n",
       "      <th>Ridley Scott</th>\n",
       "      <td>11975</td>\n",
       "      <td>781</td>\n",
       "      <td>810</td>\n",
       "      <td>45.9</td>\n",
       "      <td>6</td>\n",
       "      <td>5.434938</td>\n",
       "    </tr>\n",
       "    <tr>\n",
       "      <th>Sergio Leone</th>\n",
       "      <td>7866</td>\n",
       "      <td>748</td>\n",
       "      <td>530</td>\n",
       "      <td>33.0</td>\n",
       "      <td>4</td>\n",
       "      <td>5.614844</td>\n",
       "    </tr>\n",
       "    <tr>\n",
       "      <th>Antoine Fuqua</th>\n",
       "      <td>10025</td>\n",
       "      <td>711</td>\n",
       "      <td>577</td>\n",
       "      <td>32.3</td>\n",
       "      <td>5</td>\n",
       "      <td>5.885269</td>\n",
       "    </tr>\n",
       "    <tr>\n",
       "      <th>Wolfgang Petersen</th>\n",
       "      <td>7988</td>\n",
       "      <td>889</td>\n",
       "      <td>534</td>\n",
       "      <td>27.5</td>\n",
       "      <td>4</td>\n",
       "      <td>6.457219</td>\n",
       "    </tr>\n",
       "    <tr>\n",
       "      <th>Zack Snyder</th>\n",
       "      <td>6020</td>\n",
       "      <td>808</td>\n",
       "      <td>380</td>\n",
       "      <td>22.7</td>\n",
       "      <td>3</td>\n",
       "      <td>6.900543</td>\n",
       "    </tr>\n",
       "    <tr>\n",
       "      <th>Edward Zwick</th>\n",
       "      <td>5998</td>\n",
       "      <td>1003</td>\n",
       "      <td>419</td>\n",
       "      <td>23.6</td>\n",
       "      <td>3</td>\n",
       "      <td>7.045823</td>\n",
       "    </tr>\n",
       "    <tr>\n",
       "      <th>Peter Jackson</th>\n",
       "      <td>10003</td>\n",
       "      <td>1517</td>\n",
       "      <td>849</td>\n",
       "      <td>41.3</td>\n",
       "      <td>5</td>\n",
       "      <td>8.251953</td>\n",
       "    </tr>\n",
       "    <tr>\n",
       "      <th>John Woo</th>\n",
       "      <td>19930</td>\n",
       "      <td>1500</td>\n",
       "      <td>1181</td>\n",
       "      <td>69.9</td>\n",
       "      <td>10</td>\n",
       "      <td>12.307650</td>\n",
       "    </tr>\n",
       "  </tbody>\n",
       "</table>\n",
       "</div>"
      ],
      "text/plain": [
       "                    Year  Body_Count  Length_Minutes  IMDB_Rating  Film_Count  \\\n",
       "Director                                                                        \n",
       "Je-kyu Kang         2004         590             140          8.1           1   \n",
       "Steven Spielberg   17965         707            1271         70.1           9   \n",
       "Ridley Scott       11975         781             810         45.9           6   \n",
       "Sergio Leone        7866         748             530         33.0           4   \n",
       "Antoine Fuqua      10025         711             577         32.3           5   \n",
       "Wolfgang Petersen   7988         889             534         27.5           4   \n",
       "Zack Snyder         6020         808             380         22.7           3   \n",
       "Edward Zwick        5998        1003             419         23.6           3   \n",
       "Peter Jackson      10003        1517             849         41.3           5   \n",
       "John Woo           19930        1500            1181         69.9          10   \n",
       "\n",
       "                   Body_Count_Min  \n",
       "Director                           \n",
       "Je-kyu Kang              4.214286  \n",
       "Steven Spielberg         4.864878  \n",
       "Ridley Scott             5.434938  \n",
       "Sergio Leone             5.614844  \n",
       "Antoine Fuqua            5.885269  \n",
       "Wolfgang Petersen        6.457219  \n",
       "Zack Snyder              6.900543  \n",
       "Edward Zwick             7.045823  \n",
       "Peter Jackson            8.251953  \n",
       "John Woo                12.307650  "
      ]
     },
     "execution_count": 48,
     "metadata": {},
     "output_type": "execute_result"
    }
   ],
   "source": [
    "movies_dir_mean = movies_dir.groupby('Director').mean().sort_values(by=['Body_Count_Min']).tail(10)\n",
    "movies_dir_mean"
   ]
  },
  {
   "cell_type": "code",
   "execution_count": 49,
   "metadata": {},
   "outputs": [
    {
     "data": {
      "image/png": "[encoded data removed]",
      "text/plain": [
       "<Figure size 1008x576 with 2 Axes>"
      ]
     },
     "metadata": {},
     "output_type": "display_data"
    }
   ],
   "source": [
    "fig, ax = plt.subplots(nrows=1, ncols=2, figsize=(14, 8))\n",
    "\n",
    "movies_dir['Body_Count'].plot(kind='barh', ax=ax[0])\n",
    "ax[0].set_title('Total Body Count')\n",
    "\n",
    "movies_dir_mean['Body_Count_Min'].plot(kind='barh', ax=ax[1])\n",
    "ax[1].set_title('Body Count per Minute')\n",
    "ax[1].yaxis.set_ticks_position('right')\n",
    "\n",
    "for i in range(2):\n",
    "    ax[i].set_ylabel('', visible=False)"
   ]
  },
  {
   "cell_type": "markdown",
   "metadata": {},
   "source": [
    "## Агрегация по жанрам (подсчет абсолютных значений и самые высокие средние значения)"
   ]
  },
  {
   "cell_type": "code",
   "execution_count": 50,
   "metadata": {
    "scrolled": false
   },
   "outputs": [
    {
     "data": {
      "text/plain": [
       "<matplotlib.axes._subplots.AxesSubplot at 0x25fe946a908>"
      ]
     },
     "execution_count": 50,
     "metadata": {},
     "output_type": "execute_result"
    },
    {
     "data": {
      "image/png": "[encoded data removed]",
      "text/plain": [
       "<Figure size 864x432 with 1 Axes>"
      ]
     },
     "metadata": {},
     "output_type": "display_data"
    }
   ],
   "source": [
    "df_genre['Genre'].value_counts().plot(kind='bar', figsize=(12, 6), title='Genres by film count')\n"
   ]
  },
  {
   "cell_type": "code",
   "execution_count": 51,
   "metadata": {
    "scrolled": false
   },
   "outputs": [
    {
     "data": {
      "text/plain": [
       "<matplotlib.axes._subplots.AxesSubplot at 0x25fe5ab6240>"
      ]
     },
     "execution_count": 51,
     "metadata": {},
     "output_type": "execute_result"
    },
    {
     "data": {
      "image/png": "[encoded data removed]",
      "text/plain": [
       "<Figure size 864x432 with 1 Axes>"
      ]
     },
     "metadata": {},
     "output_type": "display_data"
    }
   ],
   "source": [
    "df_genre.groupby('Genre').mean().sort_values(by=['Body_Count_Min'], ascending=False)['Body_Count_Min'].plot(kind='bar', figsize=(12, 6), title='Genres by body count per minute')"
   ]
  }
 ],
 "metadata": {
  "kernelspec": {
   "display_name": "Python 3",
   "language": "python",
   "name": "python3"
  },
  "language_info": {
   "codemirror_mode": {
    "name": "ipython",
    "version": 3
   },
   "file_extension": ".py",
   "mimetype": "text/x-python",
   "name": "python",
   "nbconvert_exporter": "python",
   "pygments_lexer": "ipython3",
   "version": "3.6.5"
  },
  "toc": {
   "base_numbering": 1,
   "nav_menu": {},
   "number_sections": false,
   "sideBar": true,
   "skip_h1_title": false,
   "title_cell": "Table of Contents",
   "title_sidebar": "Contents",
   "toc_cell": false,
   "toc_position": {},
   "toc_section_display": true,
   "toc_window_display": true
  }
 },
 "nbformat": 4,
 "nbformat_minor": 2
}
