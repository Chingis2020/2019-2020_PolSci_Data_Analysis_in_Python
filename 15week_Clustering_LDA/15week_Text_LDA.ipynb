{
 "cells": [
  {
   "cell_type": "markdown",
   "metadata": {},
   "source": [
    "Рогович Татьяна\n",
    "\n",
    "# Анализ данных  в Python (политология)\n",
    "\n",
    "## Обнаружение топиков (LDA)\n",
    "\n",
    "\n",
    "##### 11.12.2019\n",
    "\n"
   ]
  },
  {
   "cell_type": "code",
   "execution_count": 1,
   "metadata": {},
   "outputs": [],
   "source": [
    "import pandas as pd\n",
    "import matplotlib.pyplot as plt\n",
    "import numpy as np\n",
    "from sklearn.model_selection import train_test_split\n",
    "from nltk.corpus import stopwords\n",
    "import re\n",
    "from nltk.stem import WordNetLemmatizer\n"
   ]
  },
  {
   "cell_type": "markdown",
   "metadata": {},
   "source": [
    "# Latent Dirichlet Allocation (LDA)"
   ]
  },
  {
   "cell_type": "markdown",
   "metadata": {},
   "source": [
    "### Построение модели LDA\n",
    "\n",
    "Для построения модели LDA нам потребуется подготовленный набор данных, состоящий из уже очищенных текстов от стоп-слов.\n",
    "\n",
    "LDA  - это метод по генерации скрытых топиков в выборке текстов. Например, мы (как в нашем случае) не знаем новости каких категорий попали к нам в набор данных. Мы говорим алгоритму, что мы предполгаем, что в это наборе есть 10 топиков, после чего алгоритм пытается на основе определенных слов выделить 10 кластеров, на которые он мог бы разделить все наши новости. Выделив эти 10 кластеров и характерные для них слова, алгоритм присваивает каждому тексту в датасете топик, который мы уже самостоятельно должны интерпретировать на основе слов-признаков, которыми он определяется.\n",
    "\n",
    "Как работает LDA на пальцах можно почитать здесь:\n",
    "https://medium.com/@lettier/how-does-lda-work-ill-explain-using-emoji-108abf40fa7d\n",
    "\n",
    "Для нашего примера мы возьмем реальные новости из нашего датасета с фейковыми и реальным новостями. Будет считать, что эти новости были взяты из 10 различных категорий (топиков), позже применив grid search, мы определим оптимальное количество категорий.\n",
    "\n",
    "Для начала оставим в наших данных, с которыми работали для классификации, только реальные новости."
   ]
  },
  {
   "cell_type": "code",
   "execution_count": 2,
   "metadata": {},
   "outputs": [],
   "source": [
    "data = pd.read_csv(\"https://raw.githubusercontent.com/rogovich/2019-2020_PolSci_Data_Analysis_in_Python/master/13week_ML_Text/fake_or_real_news.csv\", \n",
    "                   header=0)"
   ]
  },
  {
   "cell_type": "code",
   "execution_count": 3,
   "metadata": {},
   "outputs": [],
   "source": [
    "real_news = data.drop(data[data.label == \"FAKE\"].index)"
   ]
  },
  {
   "cell_type": "code",
   "execution_count": 4,
   "metadata": {},
   "outputs": [
    {
     "data": {
      "text/html": [
       "<div>\n",
       "<style scoped>\n",
       "    .dataframe tbody tr th:only-of-type {\n",
       "        vertical-align: middle;\n",
       "    }\n",
       "\n",
       "    .dataframe tbody tr th {\n",
       "        vertical-align: top;\n",
       "    }\n",
       "\n",
       "    .dataframe thead th {\n",
       "        text-align: right;\n",
       "    }\n",
       "</style>\n",
       "<table border=\"1\" class=\"dataframe\">\n",
       "  <thead>\n",
       "    <tr style=\"text-align: right;\">\n",
       "      <th></th>\n",
       "      <th>Unnamed: 0</th>\n",
       "      <th>title</th>\n",
       "      <th>text</th>\n",
       "      <th>label</th>\n",
       "    </tr>\n",
       "  </thead>\n",
       "  <tbody>\n",
       "    <tr>\n",
       "      <th>2</th>\n",
       "      <td>3608</td>\n",
       "      <td>Kerry to go to Paris in gesture of sympathy</td>\n",
       "      <td>U.S. Secretary of State John F. Kerry said Mon...</td>\n",
       "      <td>REAL</td>\n",
       "    </tr>\n",
       "    <tr>\n",
       "      <th>4</th>\n",
       "      <td>875</td>\n",
       "      <td>The Battle of New York: Why This Primary Matters</td>\n",
       "      <td>It's primary day in New York and front-runners...</td>\n",
       "      <td>REAL</td>\n",
       "    </tr>\n",
       "    <tr>\n",
       "      <th>7</th>\n",
       "      <td>95</td>\n",
       "      <td>‘Britain’s Schindler’ Dies at 106</td>\n",
       "      <td>A Czech stockbroker who saved more than 650 Je...</td>\n",
       "      <td>REAL</td>\n",
       "    </tr>\n",
       "    <tr>\n",
       "      <th>8</th>\n",
       "      <td>4869</td>\n",
       "      <td>Fact check: Trump and Clinton at the 'commande...</td>\n",
       "      <td>Hillary Clinton and Donald Trump made some ina...</td>\n",
       "      <td>REAL</td>\n",
       "    </tr>\n",
       "    <tr>\n",
       "      <th>9</th>\n",
       "      <td>2909</td>\n",
       "      <td>Iran reportedly makes new push for uranium con...</td>\n",
       "      <td>Iranian negotiators reportedly have made a las...</td>\n",
       "      <td>REAL</td>\n",
       "    </tr>\n",
       "  </tbody>\n",
       "</table>\n",
       "</div>"
      ],
      "text/plain": [
       "   Unnamed: 0                                              title  \\\n",
       "2        3608        Kerry to go to Paris in gesture of sympathy   \n",
       "4         875   The Battle of New York: Why This Primary Matters   \n",
       "7          95                  ‘Britain’s Schindler’ Dies at 106   \n",
       "8        4869  Fact check: Trump and Clinton at the 'commande...   \n",
       "9        2909  Iran reportedly makes new push for uranium con...   \n",
       "\n",
       "                                                text label  \n",
       "2  U.S. Secretary of State John F. Kerry said Mon...  REAL  \n",
       "4  It's primary day in New York and front-runners...  REAL  \n",
       "7  A Czech stockbroker who saved more than 650 Je...  REAL  \n",
       "8  Hillary Clinton and Donald Trump made some ina...  REAL  \n",
       "9  Iranian negotiators reportedly have made a las...  REAL  "
      ]
     },
     "execution_count": 4,
     "metadata": {},
     "output_type": "execute_result"
    }
   ],
   "source": [
    "real_news.head()"
   ]
  },
  {
   "cell_type": "code",
   "execution_count": 5,
   "metadata": {},
   "outputs": [],
   "source": [
    "lemm = WordNetLemmatizer()\n",
    "\n",
    "def news_to_words(raw_news):\n",
    "\n",
    "    # 1. Переводим в нижний регистр и разбиваем на токены\n",
    "    lower_case = raw_news.lower()\n",
    "    \n",
    "    # 2. Оставляем только буквы + findall венрнет нам список      \n",
    "    letters_only = re.findall(r'[a-z]+', lower_case)\n",
    "\n",
    "    # 3. В Питоне поиск в множествах (set) быстрее чем поиск в\n",
    "    #   списках, конвертируем список стоп-слов в множество\n",
    "    stops = set(stopwords.words(\"english\"))                  \n",
    "    # \n",
    "    # 4. Убираем стоп-слова\n",
    "    meaningful_words = [w for w in letters_only if not w in stops]   \n",
    "    #\n",
    "    # 6. Объединяем все слова вместе в одну строчку, разделяя слова пробелом, \n",
    "    # и возвращаем результат\n",
    "    lemmatized = [lemm.lemmatize(word) for word in meaningful_words]\n",
    "    \n",
    "    return( \" \".join(lemmatized))   "
   ]
  },
  {
   "cell_type": "code",
   "execution_count": 6,
   "metadata": {},
   "outputs": [],
   "source": [
    "real_news['clean'] = real_news['text'].apply(news_to_words)"
   ]
  },
  {
   "cell_type": "code",
   "execution_count": 107,
   "metadata": {},
   "outputs": [
    {
     "data": {
      "text/plain": [
       "(3171, 5)"
      ]
     },
     "execution_count": 107,
     "metadata": {},
     "output_type": "execute_result"
    }
   ],
   "source": [
    "real_news.shape"
   ]
  },
  {
   "cell_type": "code",
   "execution_count": 7,
   "metadata": {},
   "outputs": [],
   "source": [
    "X = real_news[[\"clean\"]]\n",
    "y = real_news[\"label\"]"
   ]
  },
  {
   "cell_type": "code",
   "execution_count": 8,
   "metadata": {},
   "outputs": [
    {
     "data": {
      "text/html": [
       "<div>\n",
       "<style scoped>\n",
       "    .dataframe tbody tr th:only-of-type {\n",
       "        vertical-align: middle;\n",
       "    }\n",
       "\n",
       "    .dataframe tbody tr th {\n",
       "        vertical-align: top;\n",
       "    }\n",
       "\n",
       "    .dataframe thead th {\n",
       "        text-align: right;\n",
       "    }\n",
       "</style>\n",
       "<table border=\"1\" class=\"dataframe\">\n",
       "  <thead>\n",
       "    <tr style=\"text-align: right;\">\n",
       "      <th></th>\n",
       "      <th>clean</th>\n",
       "    </tr>\n",
       "  </thead>\n",
       "  <tbody>\n",
       "    <tr>\n",
       "      <th>2</th>\n",
       "      <td>u secretary state john f kerry said monday sto...</td>\n",
       "    </tr>\n",
       "    <tr>\n",
       "      <th>4</th>\n",
       "      <td>primary day new york front runner hillary clin...</td>\n",
       "    </tr>\n",
       "    <tr>\n",
       "      <th>7</th>\n",
       "      <td>czech stockbroker saved jewish child nazi germ...</td>\n",
       "    </tr>\n",
       "    <tr>\n",
       "      <th>8</th>\n",
       "      <td>hillary clinton donald trump made inaccurate c...</td>\n",
       "    </tr>\n",
       "    <tr>\n",
       "      <th>9</th>\n",
       "      <td>iranian negotiator reportedly made last ditch ...</td>\n",
       "    </tr>\n",
       "  </tbody>\n",
       "</table>\n",
       "</div>"
      ],
      "text/plain": [
       "                                               clean\n",
       "2  u secretary state john f kerry said monday sto...\n",
       "4  primary day new york front runner hillary clin...\n",
       "7  czech stockbroker saved jewish child nazi germ...\n",
       "8  hillary clinton donald trump made inaccurate c...\n",
       "9  iranian negotiator reportedly made last ditch ..."
      ]
     },
     "execution_count": 8,
     "metadata": {},
     "output_type": "execute_result"
    }
   ],
   "source": [
    "X.head()"
   ]
  },
  {
   "cell_type": "markdown",
   "metadata": {},
   "source": [
    "Создадим обучающую и тестовую выборки"
   ]
  },
  {
   "cell_type": "code",
   "execution_count": 9,
   "metadata": {},
   "outputs": [],
   "source": [
    "X_train, X_test, y_train, y_test = train_test_split(X, y, test_size=0.33,random_state=53)"
   ]
  },
  {
   "cell_type": "code",
   "execution_count": 10,
   "metadata": {},
   "outputs": [
    {
     "data": {
      "text/plain": [
       "(2124, 1)"
      ]
     },
     "execution_count": 10,
     "metadata": {},
     "output_type": "execute_result"
    }
   ],
   "source": [
    "X_train.shape"
   ]
  },
  {
   "cell_type": "code",
   "execution_count": 11,
   "metadata": {},
   "outputs": [
    {
     "data": {
      "text/plain": [
       "(1047, 1)"
      ]
     },
     "execution_count": 11,
     "metadata": {},
     "output_type": "execute_result"
    }
   ],
   "source": [
    "X_test.shape"
   ]
  },
  {
   "cell_type": "markdown",
   "metadata": {},
   "source": [
    "Тренируем наш векторайзер"
   ]
  },
  {
   "cell_type": "code",
   "execution_count": 12,
   "metadata": {},
   "outputs": [],
   "source": [
    "from sklearn.feature_extraction.text import CountVectorizer\n",
    "\n",
    "count_vectorizer = CountVectorizer(max_features=5000, max_df = 0.7)\n",
    "count_train = count_vectorizer.fit_transform(X_train['clean'])\n",
    "count_test = count_vectorizer.transform(X_test['clean'])"
   ]
  },
  {
   "cell_type": "code",
   "execution_count": 13,
   "metadata": {},
   "outputs": [
    {
     "data": {
      "text/plain": [
       "<2124x5000 sparse matrix of type '<class 'numpy.int64'>'\n",
       "\twith 536975 stored elements in Compressed Sparse Row format>"
      ]
     },
     "execution_count": 13,
     "metadata": {},
     "output_type": "execute_result"
    }
   ],
   "source": [
    "count_train"
   ]
  },
  {
   "cell_type": "code",
   "execution_count": 14,
   "metadata": {},
   "outputs": [
    {
     "data": {
      "text/plain": [
       "<1047x5000 sparse matrix of type '<class 'numpy.int64'>'\n",
       "\twith 254366 stored elements in Compressed Sparse Row format>"
      ]
     },
     "execution_count": 14,
     "metadata": {},
     "output_type": "execute_result"
    }
   ],
   "source": [
    "count_test"
   ]
  },
  {
   "cell_type": "markdown",
   "metadata": {},
   "source": [
    "Импортируем из sklearn функцию LDA и инициализируем ее начальными параметрами\n",
    "\n",
    "https://scikit-learn.org/stable/modules/generated/sklearn.decomposition.LatentDirichletAllocation.html"
   ]
  },
  {
   "cell_type": "code",
   "execution_count": 15,
   "metadata": {},
   "outputs": [],
   "source": [
    "from sklearn.decomposition import LatentDirichletAllocation"
   ]
  },
  {
   "cell_type": "code",
   "execution_count": 16,
   "metadata": {},
   "outputs": [],
   "source": [
    "# Построим модель LDA\n",
    "lda_model = LatentDirichletAllocation(n_components=10,           # Количество топиков\n",
    "                                      max_iter=10,               # Макc. количество итераций обучения\n",
    "                                      learning_method='online',  # Каждый раз, для обновления параметров\n",
    "                                                                  # выбирается сабсет данных\n",
    "                                      random_state=100,          # Random state\n",
    "                                      batch_size=128,            # n документов в каждой итерации online learning\n",
    "                                      evaluate_every = -1,       # Не высчитываем сложность для каждой итерации (экономим время работы)\n",
    "                                      n_jobs = -1,               # Использовать все доступные CPUs\n",
    "                                     )"
   ]
  },
  {
   "cell_type": "markdown",
   "metadata": {},
   "source": [
    "Тренируем LDA на текстах наших новостей. Чем больше категорий задано в LDA, тем дольше он будет работать"
   ]
  },
  {
   "cell_type": "code",
   "execution_count": 17,
   "metadata": {},
   "outputs": [],
   "source": [
    "lda_output = lda_model.fit_transform(count_train)"
   ]
  },
  {
   "cell_type": "markdown",
   "metadata": {},
   "source": [
    "Выведем с какими итоговыми атрибутами построилась модель"
   ]
  },
  {
   "cell_type": "code",
   "execution_count": 18,
   "metadata": {},
   "outputs": [
    {
     "name": "stdout",
     "output_type": "stream",
     "text": [
      "LatentDirichletAllocation(batch_size=128, doc_topic_prior=None,\n",
      "             evaluate_every=-1, learning_decay=0.7,\n",
      "             learning_method='online', learning_offset=10.0,\n",
      "             max_doc_update_iter=100, max_iter=10, mean_change_tol=0.001,\n",
      "             n_components=10, n_jobs=-1, n_topics=None, perp_tol=0.1,\n",
      "             random_state=100, topic_word_prior=None,\n",
      "             total_samples=1000000.0, verbose=0)\n"
     ]
    }
   ],
   "source": [
    "print(lda_model)  # Атрибуты модели"
   ]
  },
  {
   "cell_type": "markdown",
   "metadata": {},
   "source": [
    "### Используем GridSearch для получения лучшей модели LDA\n",
    "\n",
    "При построении модели LDA самыми важным параметром является n_components (количество топиков). В нашем случае мы не знаем откуда были взяты наши новости и из каких категорий. Дополнительно будем еще менять параметр learning_decay (который отвечает за степень обучения).\n",
    "\n",
    "Стоит напомнить, что грид серч строит несколько моделей LDA для всех возможных комбинаций параметров, указаных при составлении поиска в словаре param_grid. Следовательно, этот процесс может занять изрядное количетво времени и ресурсов.\n",
    "\n",
    "Импортиурем функцию GridSearch, которая автоматизирует поиск параметров по сетке, который мы раньше реализовывали вручную."
   ]
  },
  {
   "cell_type": "code",
   "execution_count": 19,
   "metadata": {},
   "outputs": [],
   "source": [
    "from sklearn.model_selection import GridSearchCV"
   ]
  },
  {
   "cell_type": "code",
   "execution_count": 20,
   "metadata": {},
   "outputs": [
    {
     "data": {
      "text/plain": [
       "GridSearchCV(cv=None, error_score='raise',\n",
       "       estimator=LatentDirichletAllocation(batch_size=128, doc_topic_prior=None,\n",
       "             evaluate_every=-1, learning_decay=0.7, learning_method=None,\n",
       "             learning_offset=10.0, max_doc_update_iter=100, max_iter=10,\n",
       "             mean_change_tol=0.001, n_components=10, n_jobs=1,\n",
       "             n_topics=None, perp_tol=0.1, random_state=None,\n",
       "             topic_word_prior=None, total_samples=1000000.0, verbose=0),\n",
       "       fit_params=None, iid=True, n_jobs=1,\n",
       "       param_grid={'n_components': [5, 10, 15], 'learning_decay': [0.5, 0.7, 0.9], 'learning_method': ['online']},\n",
       "       pre_dispatch='2*n_jobs', refit=True, return_train_score='warn',\n",
       "       scoring=None, verbose=0)"
      ]
     },
     "execution_count": 20,
     "metadata": {},
     "output_type": "execute_result"
    }
   ],
   "source": [
    "# Укажем параметры для обучения.\n",
    "# Имейте ввиду, эта ячейка может исполняться до 15 минут\n",
    "search_params = {'n_components': [5, 10, 15], 'learning_decay': [.5, .7, .9], 'learning_method': [\"online\"]} \n",
    "\n",
    "# Инициализируем модель\n",
    "lda = LatentDirichletAllocation()\n",
    "\n",
    "# Инициализируе класс Grid Search\n",
    "model = GridSearchCV(lda, param_grid=search_params)\n",
    "\n",
    "# Выполним Grid Search\n",
    "model.fit(count_train)"
   ]
  },
  {
   "cell_type": "markdown",
   "metadata": {},
   "source": [
    "### Определим основные топики и параметры модели\n",
    "\n",
    "Grid Search закончил свою работу и самое время посмотреть на самую удачную модель и при каких параметрах она получилась.\n",
    "\n",
    "Сначала получил саму модель для дальнейшего разбора\n"
   ]
  },
  {
   "cell_type": "code",
   "execution_count": 21,
   "metadata": {},
   "outputs": [],
   "source": [
    "# После поиска по сетке лучшая модель теперь хранится в параметре \n",
    "# best_estimator_ модели.\n",
    "\n",
    "best_lda_model = model.best_estimator_"
   ]
  },
  {
   "cell_type": "markdown",
   "metadata": {},
   "source": [
    "Выведем самые подходящие параметры модели"
   ]
  },
  {
   "cell_type": "code",
   "execution_count": 22,
   "metadata": {},
   "outputs": [
    {
     "name": "stdout",
     "output_type": "stream",
     "text": [
      "Best Model's Params:  {'learning_decay': 0.7, 'learning_method': 'online', 'n_components': 5}\n",
      "Best Log Likelihood Score:  -2308152.865119392\n",
      "Model Perplexity:  1764.6617749905508\n"
     ]
    }
   ],
   "source": [
    "# Параметры модели\n",
    "print(\"Best Model's Params: \", model.best_params_)\n",
    "\n",
    "# Выведем оценку функции правдопободия Log Likelihood Score\n",
    "print(\"Best Log Likelihood Score: \", model.best_score_)\n",
    "\n",
    "# Сложность\n",
    "print(\"Model Perplexity: \", best_lda_model.perplexity(count_train))"
   ]
  },
  {
   "cell_type": "markdown",
   "metadata": {},
   "source": [
    "Получили, что наши новости можно разделить на 5 топиков, и некоторые коэффиценты.\n",
    "\n",
    "Но нужно понимать, что в задаче генерации топиков мы должны оценивать модель и по осмысленности и интерпретируемости топиков.\n",
    "\n",
    "Perplexity это обратная величина вероятности тестовой выборки, нормализованная количеством слов в выборке. Минимизируя perplexity мы увеличиваем вероятность. Поэтому чем ниже perplexity, тем лучше наша модель натренирована.\n",
    "\n",
    "Оптимальные значения параметров α и β в модели LDA выбираются так, что бы максимизировать функцию правдоподобия для всех документов в обучающей выборке. Чем выше это значение, тем луше модель считает. Параметры α и β подбираются автоматически внутри модели, на основе параметров которые мы указываем при инициализации LDA, например тотже learning decay"
   ]
  },
  {
   "cell_type": "markdown",
   "metadata": {},
   "source": [
    "### Сравним разные модели LDA визуально\n",
    "\n",
    "Посмотрим визуально на наши построеныне модели с различными параметрами"
   ]
  },
  {
   "cell_type": "markdown",
   "metadata": {},
   "source": [
    "Вытащим данные для разных коэффициентов функции правдоподобия"
   ]
  },
  {
   "cell_type": "code",
   "execution_count": 23,
   "metadata": {},
   "outputs": [
    {
     "name": "stderr",
     "output_type": "stream",
     "text": [
      "C:\\Users\\rogov\\Anaconda3\\lib\\site-packages\\sklearn\\model_selection\\_search.py:761: DeprecationWarning: The grid_scores_ attribute was deprecated in version 0.18 in favor of the more elaborate cv_results_ attribute. The grid_scores_ attribute will not be available from 0.20\n",
      "  DeprecationWarning)\n",
      "C:\\Users\\rogov\\Anaconda3\\lib\\site-packages\\sklearn\\model_selection\\_search.py:761: DeprecationWarning: The grid_scores_ attribute was deprecated in version 0.18 in favor of the more elaborate cv_results_ attribute. The grid_scores_ attribute will not be available from 0.20\n",
      "  DeprecationWarning)\n",
      "C:\\Users\\rogov\\Anaconda3\\lib\\site-packages\\sklearn\\model_selection\\_search.py:761: DeprecationWarning: The grid_scores_ attribute was deprecated in version 0.18 in favor of the more elaborate cv_results_ attribute. The grid_scores_ attribute will not be available from 0.20\n",
      "  DeprecationWarning)\n"
     ]
    }
   ],
   "source": [
    "# Get Log Likelyhoods from Grid Search Output\n",
    "n_topics = [5, 10, 15]\n",
    "log_likelyhoods_5 = [round(gscore.mean_validation_score) for gscore in model.grid_scores_ if gscore.parameters['learning_decay']==0.5]\n",
    "log_likelyhoods_7 = [round(gscore.mean_validation_score) for gscore in model.grid_scores_ if gscore.parameters['learning_decay']==0.7]\n",
    "log_likelyhoods_9 = [round(gscore.mean_validation_score) for gscore in model.grid_scores_ if gscore.parameters['learning_decay']==0.9]"
   ]
  },
  {
   "cell_type": "markdown",
   "metadata": {},
   "source": [
    "Нарисуем график и сравним визуально"
   ]
  },
  {
   "cell_type": "code",
   "execution_count": 24,
   "metadata": {},
   "outputs": [
    {
     "data": {
      "image/png": "[encoded data removed]",
      "text/plain": [
       "<Figure size 864x576 with 1 Axes>"
      ]
     },
     "metadata": {},
     "output_type": "display_data"
    }
   ],
   "source": [
    "# Show graph\n",
    "plt.figure(figsize=(12, 8))\n",
    "plt.plot(n_topics, log_likelyhoods_5, label='0.5')\n",
    "plt.plot(n_topics, log_likelyhoods_7, label='0.7')\n",
    "plt.plot(n_topics, log_likelyhoods_9, label='0.9')\n",
    "plt.title(\"Выбираем оптимальную модель LDA\")\n",
    "plt.xlabel(\"Количество топиков\")\n",
    "plt.ylabel(\"Функция правдопободия Log Likelyhood Scores\")\n",
    "plt.legend(title='Параметр обучения', loc='best')\n",
    "plt.show()"
   ]
  },
  {
   "cell_type": "markdown",
   "metadata": {},
   "source": [
    "Давайте проанализируем графики. По вертикальной оси у нас значения функции правдоподобия. По горизионтальной количество топиков. Максимальное значение мы имеем при количестве топиков 5 и при параметре обучения 0.7. Как раз это нам и сказал Grid Search.\n",
    "\n",
    "Если не знать точного количество топиков (как в нашем случае), то GridSearch может стать хорошим помощником в этом деле и его результатам стоит доверять."
   ]
  },
  {
   "cell_type": "markdown",
   "metadata": {},
   "source": [
    "Теперь выведем топики, которые наша самая лучшая модель нашла.\n",
    "\n",
    "Напишем сначала функцию, которая нам будет красиво выводить название топика и примерный текст, по которому мы сможем определить категорию.\n",
    "\n",
    "Стоить отметить что она НЕ скажет вам название категории. Только человек, посмотрев на получившийся текст можно для классифицировать название топика."
   ]
  },
  {
   "cell_type": "code",
   "execution_count": 25,
   "metadata": {},
   "outputs": [],
   "source": [
    "def print_top_words(model, feature_names, n_top_words):\n",
    "    for index, topic in enumerate(model.components_):\n",
    "        message = \"\\nTopic #{}:\".format(index)\n",
    "        message += \" \".join([feature_names[i] for i in topic.argsort()[:-n_top_words - 1 :-1]])\n",
    "        print(message)\n",
    "        print(\"=\"*70)"
   ]
  },
  {
   "cell_type": "markdown",
   "metadata": {},
   "source": [
    "Выведем наши топики"
   ]
  },
  {
   "cell_type": "code",
   "execution_count": 26,
   "metadata": {},
   "outputs": [
    {
     "name": "stdout",
     "output_type": "stream",
     "text": [
      "\n",
      "Topics в модели LDA: \n",
      "\n",
      "Topic #0:trump people american like say time president would clinton woman year white know right even many think thing make way america country new donald get bush going first political medium life much want black also obama news campaign back hillary\n",
      "======================================================================\n",
      "\n",
      "Topic #1:attack isi state islamic iraq military syria group force war official terrorist people security al also country government killed president russia paris syrian united two russian told world obama would militant news year minister say terrorism city fighter report foreign\n",
      "======================================================================\n",
      "\n",
      "Topic #2:state police law department court gun people year email justice officer time would official shooting two clinton right told case marriage city also day report federal new say could according investigation fbi black community news government information statement religious church\n",
      "======================================================================\n",
      "\n",
      "Topic #3:obama would year state president republican house congress american deal government policy senate tax iran say percent new could bill also administration democrat time even program health job political get law issue change make leader rate people plan court right\n",
      "======================================================================\n",
      "\n",
      "Topic #4:trump clinton republican campaign party state candidate sander voter cruz new democratic presidential poll rubio vote would election gop primary percent debate hillary bush also former win president delegate democrat week race time nominee support could first two political iowa\n",
      "======================================================================\n"
     ]
    }
   ],
   "source": [
    "# Количество слов, которое мы хотим вывести для каждого топика\n",
    "n_top_words = 40\n",
    "\n",
    "print(\"\\nTopics в модели LDA: \")\n",
    "\n",
    "# Получаем топики\n",
    "tf_feature_names = count_vectorizer.get_feature_names()\n",
    "print_top_words(best_lda_model, tf_feature_names, n_top_words)"
   ]
  },
  {
   "cell_type": "markdown",
   "metadata": {},
   "source": [
    "Получилось достаточно хорошо. Например, топик 0 у нас получился с новостям про полицию и стрельбу. Топик 1 - террористы и войны. Топик 2 - внутренняя политика. Топик 3 - выборы. 4 - тоже выборы.\n",
    "Возможно, 4 топика показали бы еще лучший результат, так как мы видим, что 3 и 4 достаточно близки.\n",
    "\n",
    "Тут уже нужен человек, чтобы оценить качество полученного результата.\n"
   ]
  },
  {
   "cell_type": "markdown",
   "metadata": {},
   "source": [
    "### Получаем топ 15 слов на каждый топик\n",
    "\n",
    "Давайте посмотрим на 15 самых встречающихся слов в каждом топике. Это полезно для понимания почему какой-либо текст мог попасть в один из топиков и для наглядного сравнения их друг с другом.\n",
    "\n",
    "Создадим следующую функцию, в которую мы передаем нашу модель, векторайзер с помощью которого мы делали токенезацию текста и количество слов, которое мы хотим получить."
   ]
  },
  {
   "cell_type": "code",
   "execution_count": 27,
   "metadata": {},
   "outputs": [],
   "source": [
    "def show_topics(vectorizer=count_vectorizer, lda_model=lda_model, n_words=20):\n",
    "    # получили топ слов из векторайзера\n",
    "    keywords = np.array(vectorizer.get_feature_names())\n",
    "    topic_keywords = []\n",
    "    for topic_weights in lda_model.components_:\n",
    "        top_keyword_locs = (-topic_weights).argsort()[:n_words]\n",
    "        topic_keywords.append(keywords.take(top_keyword_locs))\n",
    "    return topic_keywords"
   ]
  },
  {
   "cell_type": "markdown",
   "metadata": {},
   "source": [
    "Создадим ДатаФрейм с колонками из слов и строками из топиков"
   ]
  },
  {
   "cell_type": "code",
   "execution_count": 28,
   "metadata": {},
   "outputs": [
    {
     "data": {
      "text/html": [
       "<div>\n",
       "<style scoped>\n",
       "    .dataframe tbody tr th:only-of-type {\n",
       "        vertical-align: middle;\n",
       "    }\n",
       "\n",
       "    .dataframe tbody tr th {\n",
       "        vertical-align: top;\n",
       "    }\n",
       "\n",
       "    .dataframe thead th {\n",
       "        text-align: right;\n",
       "    }\n",
       "</style>\n",
       "<table border=\"1\" class=\"dataframe\">\n",
       "  <thead>\n",
       "    <tr style=\"text-align: right;\">\n",
       "      <th></th>\n",
       "      <th>Word 0</th>\n",
       "      <th>Word 1</th>\n",
       "      <th>Word 2</th>\n",
       "      <th>Word 3</th>\n",
       "      <th>Word 4</th>\n",
       "      <th>Word 5</th>\n",
       "      <th>Word 6</th>\n",
       "      <th>Word 7</th>\n",
       "      <th>Word 8</th>\n",
       "      <th>Word 9</th>\n",
       "      <th>Word 10</th>\n",
       "      <th>Word 11</th>\n",
       "      <th>Word 12</th>\n",
       "      <th>Word 13</th>\n",
       "      <th>Word 14</th>\n",
       "    </tr>\n",
       "  </thead>\n",
       "  <tbody>\n",
       "    <tr>\n",
       "      <th>Topic 0</th>\n",
       "      <td>trump</td>\n",
       "      <td>people</td>\n",
       "      <td>american</td>\n",
       "      <td>like</td>\n",
       "      <td>say</td>\n",
       "      <td>time</td>\n",
       "      <td>president</td>\n",
       "      <td>would</td>\n",
       "      <td>clinton</td>\n",
       "      <td>woman</td>\n",
       "      <td>year</td>\n",
       "      <td>white</td>\n",
       "      <td>know</td>\n",
       "      <td>right</td>\n",
       "      <td>even</td>\n",
       "    </tr>\n",
       "    <tr>\n",
       "      <th>Topic 1</th>\n",
       "      <td>attack</td>\n",
       "      <td>isi</td>\n",
       "      <td>state</td>\n",
       "      <td>islamic</td>\n",
       "      <td>iraq</td>\n",
       "      <td>military</td>\n",
       "      <td>syria</td>\n",
       "      <td>group</td>\n",
       "      <td>force</td>\n",
       "      <td>war</td>\n",
       "      <td>official</td>\n",
       "      <td>terrorist</td>\n",
       "      <td>people</td>\n",
       "      <td>security</td>\n",
       "      <td>al</td>\n",
       "    </tr>\n",
       "    <tr>\n",
       "      <th>Topic 2</th>\n",
       "      <td>state</td>\n",
       "      <td>police</td>\n",
       "      <td>law</td>\n",
       "      <td>department</td>\n",
       "      <td>court</td>\n",
       "      <td>gun</td>\n",
       "      <td>people</td>\n",
       "      <td>year</td>\n",
       "      <td>email</td>\n",
       "      <td>justice</td>\n",
       "      <td>officer</td>\n",
       "      <td>time</td>\n",
       "      <td>would</td>\n",
       "      <td>official</td>\n",
       "      <td>shooting</td>\n",
       "    </tr>\n",
       "    <tr>\n",
       "      <th>Topic 3</th>\n",
       "      <td>obama</td>\n",
       "      <td>would</td>\n",
       "      <td>year</td>\n",
       "      <td>state</td>\n",
       "      <td>president</td>\n",
       "      <td>republican</td>\n",
       "      <td>house</td>\n",
       "      <td>congress</td>\n",
       "      <td>american</td>\n",
       "      <td>deal</td>\n",
       "      <td>government</td>\n",
       "      <td>policy</td>\n",
       "      <td>senate</td>\n",
       "      <td>tax</td>\n",
       "      <td>iran</td>\n",
       "    </tr>\n",
       "    <tr>\n",
       "      <th>Topic 4</th>\n",
       "      <td>trump</td>\n",
       "      <td>clinton</td>\n",
       "      <td>republican</td>\n",
       "      <td>campaign</td>\n",
       "      <td>party</td>\n",
       "      <td>state</td>\n",
       "      <td>candidate</td>\n",
       "      <td>sander</td>\n",
       "      <td>voter</td>\n",
       "      <td>cruz</td>\n",
       "      <td>new</td>\n",
       "      <td>democratic</td>\n",
       "      <td>presidential</td>\n",
       "      <td>poll</td>\n",
       "      <td>rubio</td>\n",
       "    </tr>\n",
       "  </tbody>\n",
       "</table>\n",
       "</div>"
      ],
      "text/plain": [
       "         Word 0   Word 1      Word 2      Word 3     Word 4      Word 5  \\\n",
       "Topic 0   trump   people    american        like        say        time   \n",
       "Topic 1  attack      isi       state     islamic       iraq    military   \n",
       "Topic 2   state   police         law  department      court         gun   \n",
       "Topic 3   obama    would        year       state  president  republican   \n",
       "Topic 4   trump  clinton  republican    campaign      party       state   \n",
       "\n",
       "            Word 6    Word 7    Word 8   Word 9     Word 10     Word 11  \\\n",
       "Topic 0  president     would   clinton    woman        year       white   \n",
       "Topic 1      syria     group     force      war    official   terrorist   \n",
       "Topic 2     people      year     email  justice     officer        time   \n",
       "Topic 3      house  congress  american     deal  government      policy   \n",
       "Topic 4  candidate    sander     voter     cruz         new  democratic   \n",
       "\n",
       "              Word 12   Word 13   Word 14  \n",
       "Topic 0          know     right      even  \n",
       "Topic 1        people  security        al  \n",
       "Topic 2         would  official  shooting  \n",
       "Topic 3        senate       tax      iran  \n",
       "Topic 4  presidential      poll     rubio  "
      ]
     },
     "execution_count": 28,
     "metadata": {},
     "output_type": "execute_result"
    }
   ],
   "source": [
    "topic_keywords = show_topics(vectorizer=count_vectorizer, lda_model=best_lda_model, n_words=15)        \n",
    "\n",
    "df_topic_keywords = pd.DataFrame(topic_keywords)\n",
    "df_topic_keywords.columns = ['Word '+str(i) for i in range(df_topic_keywords.shape[1])]\n",
    "df_topic_keywords.index = ['Topic '+str(i) for i in range(df_topic_keywords.shape[0])]\n",
    "df_topic_keywords"
   ]
  },
  {
   "cell_type": "markdown",
   "metadata": {},
   "source": [
    "###  Как мы можем предсказывать топик новым текстам\n",
    "\n",
    "Наша модель уже натренирована и мы можем давать ей новые тексты, которым она присвоит один из ранее определенных топиков. В идеальном случае она это сделает верно, при условии что и разметка топиков прошла успешно. У нас есть тестовые данные, на которых можно проверить нашу модель.\n",
    "\n",
    "Дадим натреннированной модели наши тестовые данные"
   ]
  },
  {
   "cell_type": "code",
   "execution_count": 29,
   "metadata": {},
   "outputs": [],
   "source": [
    "topic_probability_scores = best_lda_model.transform(count_test)"
   ]
  },
  {
   "cell_type": "markdown",
   "metadata": {},
   "source": [
    "Выведем получившиеся оценки"
   ]
  },
  {
   "cell_type": "code",
   "execution_count": 30,
   "metadata": {},
   "outputs": [
    {
     "name": "stdout",
     "output_type": "stream",
     "text": [
      "[[1.45837507e-01 1.26000652e-04 1.26109616e-04 2.17471792e-02\n",
      "  8.32163203e-01]\n",
      " [3.04327725e-01 6.56074375e-04 6.58868015e-04 6.60469359e-04\n",
      "  6.93696864e-01]\n",
      " [6.53044512e-01 5.75741708e-04 5.11748481e-02 2.26201708e-02\n",
      "  2.72584727e-01]\n",
      " ...\n",
      " [4.03464619e-04 4.04907034e-04 1.42467790e-02 7.90259162e-01\n",
      "  1.94685688e-01]\n",
      " [5.44385823e-02 3.28443122e-01 5.76586783e-01 1.64522122e-04\n",
      "  4.03669912e-02]\n",
      " [9.76399861e-04 1.53603903e-01 7.90414792e-02 7.65400812e-01\n",
      "  9.77405717e-04]]\n"
     ]
    }
   ],
   "source": [
    "print(topic_probability_scores)"
   ]
  },
  {
   "cell_type": "markdown",
   "metadata": {},
   "source": [
    "Как мы видим для каждой новости из тестовой выборки, модель возвращает 5 чисел, которые соответствуют насколько данная новость попадает в один из топиков. Выбираем максимум в каждом ряду и получаем топик, к которому данная новость ближе всего.\n",
    "\n",
    "Давайте напишем функцию, которая будет выводить присвоенный топик и текст новости"
   ]
  },
  {
   "cell_type": "code",
   "execution_count": 31,
   "metadata": {},
   "outputs": [],
   "source": [
    "def get_topic_text(topic,i):\n",
    "    print(f\"Новость {i} попадает в {topic} топик\\n\")\n",
    "    print(X_test.values[i])\n",
    "    print(\"-\"*30)"
   ]
  },
  {
   "cell_type": "markdown",
   "metadata": {},
   "source": [
    "Теперь пройдемся по каждой строчке и выберем на ней максимальный элемент. Для выделения индекса максимального элемента в строке воспользуемся функцией argmax из модуля numpy. В нашем случае индексы и будет соответствовать номеру топика. Выведем первые 5 новостей для тестирования."
   ]
  },
  {
   "cell_type": "code",
   "execution_count": 32,
   "metadata": {},
   "outputs": [
    {
     "name": "stdout",
     "output_type": "stream",
     "text": [
      "Новость 0 попадает в 4 топик\n",
      "\n",
      "['donald trump dominated gop presidential race seven month nothing many offensive comment mediocre debate performance feared gop establishment able stop rise february could change trump face far biggest challenge yet iowa caucus result iowa first time state actual voter weigh presidential nomination contest make national contest turn dime barack obama iowa suddenly shot become competitive hillary clinton national poll john kerry came nowhere win iowa presumed leader howard dean collapsed astonishing speed trump could vulnerable iowa taken lead recent poll anecdotal report suggesting trump ground game crucial low turnout caucus laughably inferior ted cruz first contest really count trump could end loser yet manages pull win watch let step back minute ask quirky iowa caucus tremendous impact race anyway difference first place third place iowa going vote like student body election state small population overwhelmingly white turnout caucus absurdly low democrat even get secret ballot vanishingly delegate actually determine party nominee national convention iowa care much win explain iowa became super important medium party insider activist candidate even voter extent gradually decided make important key player think caucus result reveal great deal candidate win election elsewhere contest iowa really contest delegate contest look good eye iowa prominence make sense could obsession result medium insider alike tremendous overreaction bordering bizarre mass delusion one could end distorting get nominated president difference first place third place iowa going vote like student body election say stuart stevens mitt romney chief strategist respect absurdity continues drive crazy iowa caucus first time actual voter across u state get go say want president voter literally get go person event held specific time evening one precinct across state absentee voting bedridden state historically luck caucus administered separately major party republican democrat quite different rule year gop contest simple opening rigmarole caucus site ordinary secret ballot vote presidential candidate conducted total tallied statewide kind like carnival candidate supporter say come u democratic caucus far complicated rowdy hour long public affair back forth debate among attendee go physically stand supporter preferred candidate kind like carnival candidate supporter say come u group say drake university political scientist dennis goldford secret ballot democratic candidate get enough supporter precinct percent attendee eliminated reality show style video showing one precinct caucus went like iowa result appear hugely important determining major party presidential nominee particularly considered alongside impact fellow early state new hampshire remotely national primary national poll mean nothing nation voting say stevens instead iowan get first say importantly even iowa victor end winning nomination end state result dramatically shake presidential contest knocking candidate race entirely elevating others top tier status eye political elite future voter think number people participate usually little people per party meaning around percent eligible caucus goer iowa amazing outsize impact country say democratic pollster stan greenberg like political world obsessed question actually win presidential nomination race large part world come believe caucus outcome help shed important light question remember iowa assessment win mainly based poll poll course wrong iowa amazing outsize impact country pretty weird essentially iowa caucus important medium candidate political world broadly treat result greatly important determining win play several interacting way dynamic noted also apply new hampshire decreasing degree state process continues medium candidate political elite certain extent voter elsewhere act signal believe iowa new hampshire sending early state contest dramatically reshape nomination landscape long vast majority american people get weigh earliest case iowa changed everything little known former georgia gov jimmy carter victory democratic caucus second time iowa went first carter calculated get much medium coverage catapulted obscurity national fame essentially camped iowa year strategy worked like charm carter subsequent medium driven poll surge helped narrowly carry new hampshire next contest followed nomination white house jimmy carter would say would never become president without iowa caucus say jerry crawford longtime iowa democratic organizer working clinton campaign iowa convinced people obama medium phenomenon barack obama relied iowa first victory campaign hillary clinton day caucus trailed hillary clinton point national poll day shot within point result iowa validating u say larry grisolano consulted obama campaign year people became convinced obama medium phenomenon candidate could attract vote obama win made surge within striking distance clinton national poll far another important early contest south carolina iowa peculiarity played strength grisolano add know would turned started place advertising centric even iowa winner end winning nomination mike huckabee rick santorum two recent gop winner caucus result shake race elevating rather candidate prominence contest caucus exceeds expectation fails set expectation important understand every candidate affected equally caucus iowa matter primarily change perception political world candidate large part judged whether caucus performance meet expectation medium political elite instance gop caucus mitt romney came second john mccain came fourth yet romney portrayed big loser since campaigning hard iowa seemed favorite win mccain meanwhile really trying win iowa focusing instead well new hampshire fourth place finish interpreted stunning setback every candidate iowa opponent opponent name expected say goldford caucus exceeds expectation fails set expectation essentially iowa moved caucus front line perfect moment happened back democratic party overhauling nomination process give actual voter party boss say presidential nomination system know today month long sequence staggered primary caucus every state territory came republican adopted similar reform soon afterward first nomination contest reformed system iowa democrat slated usual caucus unusually early date january people offer various different explanation deliberate effort help favorite son considering running president arcane party rule change required day pas various state local event even lack available hotel room de moines summer necessitated earlier state convention date necessitated earlier caucus date whatever reason iowa democratic caucus moved ahead new hampshire primary traditionally nation first people political community concluded happened told u something first people outside iowa noticed cared caucus result got little attention nationally retrospect george mcgovern shockingly democratic nomination insider second guessing failed predict rise concluded paid attention finished surprisingly strong second iowa people political community concluded happened told u something told u weak frontrunner told u energy antiwar movement say david yepsen former political reporter de moines register savvy iowan party worked hard promote idea iowa early bellwether democrat arranged event top line result could easily reported national press republican moved caucus day create unified event would get lot medium buzz tom whitney state democratic chair later told iowa public television carter victory iowa general election great ended great iowa could claim kingmaker future candidate party spent time money national press started regularly covering result major event party insider voter early state began taking iowa result seriously ever since state party tenaciously successfully fought keep caucus first helped new precedent set brookings fellow elaine kamarck chronicle book primary politics many critic including vox dylan matthew argue iowa population unrepresentative country whole state much white rural fewer foreign born people others criticize caucus setup event take long time scheduled specific time evening absentee voting past depresses turnout could make even unrepresentative four five registered party member iowa vast majority independent voter usually show think iowa distorts process good way say operative state furthermore democrat even get secret ballot mean social pressure could skew result gop side turnout recently dominated evangelical activist many opted candidate lack national appeal like huckabee santorum presidential candidate party long felt compelled voice fealty powerful interest group state like big corn though peverill squire convincingly argues pro corn policy mainly driven congress white house finally seems plain unfair lot people state iowa get power caucus defender respond saying iowa skew result positively think distorts process good way say crawford hillary clinton organizer iowa state retail campaigning one one interaction voter rather simply big money ad buy matter voter shown follow prevailing national wind willing give little known poorly funded challenger chance help ensure democratic contest overall iowa level playing ground say iowa gop operative eric woolson iowa electorate pay attention going case every attempt supplant iowa failed neither national party agree else first line alternative way thing entirely state tried jump line like louisiana contest boycotted iowa pol behest deemed meaningless national elite press eventually national party accepted iowa new hampshire hell bent going first second vast majority state care much party began harshly penalizing state tried move nomination contest early accordingly nobody even bothered try leapfrog iowa time around lesson political world take away caucus really important delegate end allotted everyone anxious see actual iowa result measure expectation help better understand actually win looking major thing gop contest everyone anxiously awaiting answer one key question donald trump get people actually vote despite trump month long lead national poll still great deal skepticism elite perhaps poll overstate support perhaps campaign good ground game perhaps supporter regular gop primary caucus voter bother show perhaps electorate flock seemingly electable candidate last minute trump win iowa prepare medium frenzy like never seen since caucus turnout difficult pollster model since ted cruz perceived better organization trump much political world long expected trump finish second behind cruz yet trump taken lead recent poll perverse effect raising expectation second place finish would viewed disappointment come third worse portrayed loser went pathetic defeat manage actually win caucus debunk much skepticism mentioned prove vanishing contest anytime soon unleash medium frenzy like never seen iowa result big implication gop candidate since ted cruz led poll recently loss would perceived serious blow candidacy marco rubio meanwhile currently polling third place people expect end rubio manages surprise people placing second even first get huge amount positive buzz going new hampshire somehow fall behind especially another establishment friendly candidate like jeb bush chris christie pass whispered doubt campaign competence vindicated whoever beat momentum medium coverage buzz among elite week granite state contest candidate entirely manages surge late iowa rick santorum expect major player next contest meanwhile democratic side bernie sander suddenly surged iowa poll full year trailing clinton since long ahead new hampshire positioned seriously compete early state come raised expectation clinton win contest outright sander movement could well fizzle could wrap nomination quickly sander win either though even come close iowa expect pitched battle two last quite time unless martin malley vastly exceeds current low single digit percent support iowa expect drop soon afterward nightmare scenario clinton point implausible sander win iowa new hampshire happens political elite press mercilessly mock second guess clinton campaign week yet insider also understand state heavily white representative diverse democratic electorate overall big question whether positive coverage sander get improve performance among nonwhite democrat seemed uninterested candidacy far put test next contest south carolina goofy way agree absent clear alternative feel like needed decoder ring make sense alone one sat designed bizarre presidential nomination system indeed even iowan admit one would ever sit design exact system scratch goofy way agree say yepsen absent clear alternative process continues candidate keep investing time money medium keep giving saturation coverage result political elite keep believing iowa matter iowa keep mattering article originally published january updated latest expectation candidate perform caucus']\n",
      "------------------------------\n",
      "Новость 1 попадает в 4 топик\n",
      "\n",
      "['mitt romney republican party presidential nominee talking state race thursday yet another general join trump team pick reveal mitt romney thursday give major speech view presidential election according news release office republican party presidential nominee appearing hinckley institute politics salt lake city announcement said subject talk state race gave detail hmm major speech state race mean mr romney going endorse marco rubio le likely one remaining gop hopeful guess case appearing onstage endorsee wherever campaigning utah also friend aide saying kind speech close mittromney aide say endorse get tomorrow speech worth covering tweeted nbc campaign reporter andrew rafferty hold second get kind late since primary half yes romney tried run start cycle got elbowed race juggernaut jeb bush campaign remember maybe second third thought hoping people think might thought even romney going anti endorse donald trump seems likely romney clearly unhappy rise donald whose demeanor opposite whose rise could mean end low tax small government corporate friendly gop romney know presumably love recent week romney sniping mr trump safety social medium decent job style pile trump already getting pressure certain stuff thus romney urged trump release back tax return pushed trump make public record conversation new york time notably hit trump latter slowness disavow endorsement former kkk official david duke disqualifying disgusting response realdonaldtrump kkk romney tweeted monday coddling repugnant bigotry character america tough word also effective word since roused trump respond fairly predictable loser taunt romney fallen trap exchanging adolescent jibe body part trump senator rubio instead romney hit quick political substance moved may change thursday even possible romney join nevertrump movement say never vote trump republican nominee would matter well derail trump point florida primary win away wrapping gop presidential prize like many republican establishment figure romney coming anti trump battle late little make difference might give romney little free medium exposure time gop establishment may mulling option revolt contentious convention establishment offer legitimate trump alternative old gop want split field third party candidate might unlike rubio ted cruz romney never lost trump romney may implicitly offering alternative whatever speech specific word']\n",
      "------------------------------\n",
      "Новость 2 попадает в 0 топик\n",
      "\n",
      "['attempt give moderate republican disturbed donald trump escape hatch hillary clinton dubbed trump supporter alt right layman term mean bigoted racist homophobic xenophobic demagogue support trump defending republican party mitt romney also called elitist racist last presidential election many define alt right opposing diversity immigration believing superior human clinton campaign vain attempt thwart trump unprecedented outreach minority past two week republican ever reaction clinton vice presidential running mate sen tim kaine compared trump supporter slave owner kaine represents alt left alt left group people nothing offer fact support opinion factual assessment grossly context disingenuous group blame minority community problem rest country use shocking statistic pointing harsh reality minority face candidate like trump begin share number offer different solution attack previously language racist dark clinton queen kingdom alt left spanning four decade single year known absence hillary clinton scandal want u forget alt lefters common sense business acumen cheat order make profit clinton whitewater scandal one look video hillary clinton laughing helping rape victim know guilty escape prosecution come politics delivers lot personal power corruption even worse private email server exposing state secret selling access ten million dollar via donation called charity clinton foundation avalanche lie covering illicit behavior clinton appealing moderate republican alt right rhetoric know scared call moderate rabbit stand side road nibble grass first sight traffic run weed hide serve little purpose reproduce rapidly alt left uh clinton car moment swerve direction moderate republican rabbit run alt right view people fight back run toward challenge speak candor refreshing air truth occasionally make cringe due heart passion hate leader influencers ability cause change alt left truth place journey power attention example democratic national committee email leak wikileaks prof even cheat amongst rank disgraced chairwoman debbie wasserman schultz gave u glimpse playbook attack destroy political foe call action attack democrat presidential candidate bernie sander regarding faith religion essentially casting atheist alt left agenda disparage opponent order cause fear distract voter assailant deviant behavior biggest weapon camouflage vast array difference amongst race faith gender cultural background projecting inherent racism immorality bigotry elitism onto opponent alt left exhibit many trait borderline personality disorder bpd fear abandonment mood unstable self image impulsive risky behavior symptom personification people consistently use projection certainly labeling anyone bpd pointing alt left worst personality trait known mankind alternative right inherently right conservative simply group people thrown political correctness aside decided support disruptor someone break political stronghold washington return people alt right movement powered truth pointing failure country present leadership share reality grim country future appears without sweeping change political cultural behavior truth absolute defense racist bigoted demagoguery way deal truth embrace attack messenger alt right attack bryan crabtree host bryan crabtree show heard atlanta biz']\n",
      "------------------------------\n",
      "Новость 3 попадает в 3 топик\n",
      "\n",
      "['donald trump said jeb bush said frankly whole range people used term anchor baby week public discussion trump immigration related policy idea idea include end nearly year old practice granting citizenship anyone born united state former known birthright citizenship delineated th amendment constitution sort public figure discussed future th amendment week colloquial many say pejorative term anchor baby come anchor baby potent politically largely mythical idea basic concept people namely woman come united state illegally give birth child generally specific purpose bolstering legal attempt child parent remain united state even become citizen looser definition suggest anchor baby simply intended help illegal immigrant parent access taxpayer financed public education social service citizen child another political hot button sure even law limit benefit child usually debate residency parent supposed using child anchor definition little legal underpinning illegal immigrant parent parent u citizen child almost never form core successful defense immigration court short undocumented parent u born child caught united state legally face risk deportation immigrant thing called anchor baby assist either undocumented parent involves long game practical immigration strategy said greg chen immigration law expert director american immigration lawyer association trade group also advocate immigrant friendly reform long game u citizen reach age apply parent obtain visa green card eventually enter united state legally order apply option parent called anchor baby would need following person lived united state unlawfully period day le one year automatic three year bar person ever reentering united state wait time visa minimum year child mature plus three year wait vast majority parent longer wait also applies person lived united state illegally year year ban person reentering united state case would year wait child mature adulthood plus year wait told parent called anchor baby face year wait even enter united state much le obtain visa green card become citizen want proof see section ii immigration nationality act ina spend afternoon nearest severely backlogged immigration court immigration court backlog grows case immigration court routinely reject claim undocumented parent must remain united state care u citizen child main rare legal exception child seriously ill profoundly disabled one parent must care full time child need medical care unavailable parent home country parent given something called humanitarian parole chen explained rarely applied people already living united state illegally often given parent say afghan war burn victim want accompany child united state medical care even humanitarian parole generally granted limited period time alternatively parent apply something even rare extreme hardship exception according deborah anker clinical professor law director harvard university law school immigration refugee clinical program rarely apply waiver may allow reenter united state sooner anker said request denied form appeal available decision final yes true undocumented immigrant come united state child perhaps even mistaken belief strengthen legal bid remain united state mistaken belief spurred previous surge illegal immigration including last year true people breast feeding mother child brought united state illegally child others benefited immigration system equivalent proprietorial discretion known deferred action exception obama administration program known daca limited estimated million young adult brought united state illegally child second program currently blocked federal court would granted deferred action another people mostly parent eligible daca deferred action typically come short limited timeline also include pathway visa legal work united state program exist concept anchor baby politically popularized becomes harder accept idea anchor baby express goal many people immigrating illegally also important note august daca application approved according pew research center analysis federal data even applicant must wait st birthday begin lengthy process described attempt help undocumented parent attempt key word still skeptical real proof baby united state little help undocumented parent remain united state least child state custody foster care undocumented parent parent deported according study released applied research center new york based think tank focus racial social justice issue estimate put figure even higher today immigration custom enforcement sent mandatory report senate among thing revealed agency deported people told federal authority one u citizen child child parent certainly know anchor baby real']\n",
      "------------------------------\n",
      "Новость 4 попадает в 2 топик\n",
      "\n",
      "['cnn mystery death freddie gray grew complex thursday several new report put focus might happened roughly minute ride back police transport van investigator found gray mortally injured van arrest washington television station reported citing multiple law enforcement source police told reporter learned additional stop van made traveling police precinct officer involved arrest belief gray injured put vehicle according relative gave officer account cnn second prisoner picked gray told investigator thought gray intentionally trying injure according washington post happened gray year old baltimore man suffered severe spine injury died one week arrest led angry debate protest nationwide first time thursday baltimore police walked marcher stopped traffic intersection p curfew went effect third night still many protester street activist local leader telling people go home body found block away cv pharmacy looted set fire monday rioting cnn ryan young saw authority tending discovered parked semi truck investigator say body man woman connection riot dispatcher illinois based trucking company commission truck said baltimore police called ask one driver hailing baltimore family reported missing two three day trip home said dispatcher brad rhodes henderson trucking company driver supposed return work wednesday show rhodes confirm driver vehicle missing man know missing driver fate source quoted washington based station said medical examiner determined gray death caused catastrophic injury slammed back police transport van inside apparently breaking neck head injury sustained match bolt back van station said unclear caused gray slam back van whether gray caused injury official state office chief medical examiner comment cnn report citing ongoing investigation official said autopsy report gray could delivered state attorney office soon tomorrow early next week staff member still examination thursday official said completion delivery final report depend quickly evaluation completed compiled could sent friday still possibility ready early next week official said gray injured whether police liable death question hand state attorney baltimore city police led news conference announcing handed investigative file prosecutor day earlier planned state attorney baltimore city confirmed received report said police regularly briefed office finding team conducting independent investigation continue leverage information received department relying solely finding rather fact gathered verified prosecutor marilyn mosby said ask public remain patient peaceful trust process justice system mosby ultimately decide whether file charge officer investigator delivered report early understand frustration understand urgency police commissioner anthony batts said mean investigation new evidence found follow added getting right answer important speed announcement additional stop police van treated almost footnote police news conference new stop discovered privately owned camera deputy commissioner kevin davis said without elaborating many observer though say revelation report make gray case even suspicious shortage protester taking city street express doubt police account happened gray april arrest death rev jamal bryant baltimore empowerment temple helping organize protest speaking people community young people told past two day absolutely frustrated confidence level absolutely shattered thursday news exacerbates feeling believe mr gray hurting van additional stop lends credence suspicion something absolutely track said batts told cnn chris cuomo people jumping conclusion one trying cover anything think unfortunate little thing coming think inappropriate added checking officer thursday night think people take deep breath wait state attorney come entire information attorney andrew connell part gray family legal team described police time line moving target meaning keep changing time would like know asking beginning radio run recorded stop said whenever police officer make stop supposed radio seen usually best way get accurate picture happened arrest official briefed investigation told cnn stop key determining happened connell pointed stop supposed logged generally van driver happen case initial police time line missing new stop official said connell stopped short leveling accusation cnn legal analyst mel robbins incredulous found investigation interviewed people said say going take closed circuit private camera show stop getting information police officer investigation investigate cnn law enforcement analyst tom fuentes contended however early assert something nefarious play said finding reviewing video investigation laborious could private security camera business looking sidewalk street business maybe got turned said investigate fact come gradually private citizen turn video look may realized van business owner may known anything case hwang jung owner market north fremont avenue mosher street newly disclosed stop took place said officer suit came store last week asking see surveillance footage april around viewing footage officer gave number said two officer would come copy footage happened hour later hwang said footage lost said store looted day gray death said sure exactly day officer came thought early week april april friday deputy commissioner davis told reporter three stop en route police station first put leg iron gray second deal mr gray incident said remained investigation third pick prisoner unrelated matter new stop davis said thursday came first second stop six officer involved case suspended none spoken publicly occurred relative one officer spoke cnn condition anonymity related one six officer said officer request interview relative said worry six officer encountered gray april arrest incriminated might responsible six officer injure man said six officer put hospital worried instead figuring six officer going punished behind something maybe one two even three officer may done freddie gray also told cnn officer know gray injured said belief happened arrest belief freddie gray injured outside paddy wagon relative said also gave explanation gray buckled police van appeared belligerent want reach tight space paddy wagon already irate said police said five six officer interviewed detective sixth invoked right decline questioned wjla reported van driver officer interviewed report gray trying hurt prisoner say news second prisoner told police washington post account cite investigative document written baltimore police investigator prisoner police van gray said could hear gray banging wall van thought gray intentionally trying injure prisoner separated gray metal barrier could see police said asked report gray family attorney jason down said cannot react rumor family want see medical examiner finding disputed notion gray caused fatal injury suggestion mr gray harmed back van something freddie gray family strongly disagrees down told cnn erin burnett outfront thursday case common sense dictate freddie gray sever spinal cord whether outside van inside van regardless happened police commissioner said gray gotten medical help sooner know police employee failed get medical attention timely manner multiple time batts said last week']\n",
      "------------------------------\n"
     ]
    }
   ],
   "source": [
    "for i in range(5):\n",
    "    get_topic_text((np.argmax(topic_probability_scores[i])),i)"
   ]
  },
  {
   "cell_type": "markdown",
   "metadata": {},
   "source": [
    "Проанализируйте тексты и подумайте, насколько точно они соотвествуют присвоенным топикам"
   ]
  },
  {
   "cell_type": "markdown",
   "metadata": {},
   "source": [
    "### Wordcount\n",
    "\n",
    "Визуализируем наши топики Облаком слов (Wordcount). Для этого нужно сначала установить саму библиотеку \"!pip install wordcount\""
   ]
  },
  {
   "cell_type": "code",
   "execution_count": 33,
   "metadata": {},
   "outputs": [
    {
     "name": "stdout",
     "output_type": "stream",
     "text": [
      "Requirement already satisfied: wordcloud in c:\\users\\rogov\\anaconda3\\lib\\site-packages (1.5.0)\n",
      "Requirement already satisfied: pillow in c:\\users\\rogov\\anaconda3\\lib\\site-packages (from wordcloud) (5.1.0)\n",
      "Requirement already satisfied: numpy>=1.6.1 in c:\\users\\rogov\\anaconda3\\lib\\site-packages (from wordcloud) (1.14.3)\n"
     ]
    },
    {
     "name": "stderr",
     "output_type": "stream",
     "text": [
      "WARNING: You are using pip version 19.1.1, however version 19.3.1 is available.\n",
      "You should consider upgrading via the 'python -m pip install --upgrade pip' command.\n"
     ]
    }
   ],
   "source": [
    "!pip install wordcloud"
   ]
  },
  {
   "cell_type": "markdown",
   "metadata": {},
   "source": [
    "Для каждого топика извлечем его компоненты. Атрибут components возвращает количество раз слово j было \"назначено\" топику i. По факту это таблица components_[i, j]. Мы возвращаем для каждого топика сколько раз каждое слова были отнесено к нему."
   ]
  },
  {
   "cell_type": "code",
   "execution_count": 34,
   "metadata": {},
   "outputs": [],
   "source": [
    "first_topic = best_lda_model.components_[0]\n",
    "second_topic = best_lda_model.components_[1]\n",
    "third_topic = best_lda_model.components_[2]\n",
    "fourth_topic = best_lda_model.components_[3]\n",
    "fifth_topic = best_lda_model.components_[4]"
   ]
  },
  {
   "cell_type": "markdown",
   "metadata": {},
   "source": [
    "Посмотрим на количество слов в каждой компоненте"
   ]
  },
  {
   "cell_type": "code",
   "execution_count": 35,
   "metadata": {},
   "outputs": [
    {
     "data": {
      "text/plain": [
       "(5000,)"
      ]
     },
     "execution_count": 35,
     "metadata": {},
     "output_type": "execute_result"
    }
   ],
   "source": [
    "first_topic.shape"
   ]
  },
  {
   "cell_type": "markdown",
   "metadata": {},
   "source": [
    "Соответсвенно имеем 5000 слов, у каждого из которых есть количество попадания в конкретный топик.\n",
    "\n",
    "Отсортируем в порядке убывания наши слова. Сначала получим признаки.\n"
   ]
  },
  {
   "cell_type": "code",
   "execution_count": 36,
   "metadata": {},
   "outputs": [],
   "source": [
    "tf_feature_names = count_vectorizer.get_feature_names()"
   ]
  },
  {
   "cell_type": "markdown",
   "metadata": {},
   "source": [
    "Сортируем 50 слов для каждого топика"
   ]
  },
  {
   "cell_type": "code",
   "execution_count": 37,
   "metadata": {},
   "outputs": [],
   "source": [
    "first_topic_words = [tf_feature_names[i] for i in first_topic.argsort()[:-50 - 1 :-1]]\n",
    "second_topic_words = [tf_feature_names[i] for i in second_topic.argsort()[:-50 - 1 :-1]]\n",
    "third_topic_words = [tf_feature_names[i] for i in third_topic.argsort()[:-50 - 1 :-1]]\n",
    "fourth_topic_words = [tf_feature_names[i] for i in fourth_topic.argsort()[:-50 - 1 :-1]]\n",
    "fifth_topic_words = [tf_feature_names[i] for i in fifth_topic.argsort()[:-50 - 1 :-1]]"
   ]
  },
  {
   "cell_type": "markdown",
   "metadata": {},
   "source": [
    "Импортируем сам модуль WordCount. WordCount только генерирует текст, который еще нужно нарисовать с помощью matplotlib."
   ]
  },
  {
   "cell_type": "code",
   "execution_count": 41,
   "metadata": {},
   "outputs": [],
   "source": [
    "from wordcloud import WordCloud"
   ]
  },
  {
   "cell_type": "markdown",
   "metadata": {},
   "source": [
    "Инициализируем объект WordCloud нашими словами из первого топика"
   ]
  },
  {
   "cell_type": "code",
   "execution_count": 42,
   "metadata": {},
   "outputs": [],
   "source": [
    "firstcloud = WordCloud(\n",
    "                          background_color='white', # Цвет фона\n",
    "                          width=2500,\n",
    "                          height=1800\n",
    "                         ).generate(\" \".join(first_topic_words)) # передаем слова"
   ]
  },
  {
   "cell_type": "markdown",
   "metadata": {},
   "source": [
    "Рисуем на графике получившийся облако"
   ]
  },
  {
   "cell_type": "code",
   "execution_count": 43,
   "metadata": {},
   "outputs": [
    {
     "data": {
      "image/png": "[encoded data removed]",
      "text/plain": [
       "<Figure size 432x288 with 1 Axes>"
      ]
     },
     "metadata": {},
     "output_type": "display_data"
    }
   ],
   "source": [
    "plt.imshow(firstcloud)\n",
    "plt.axis('off')\n",
    "plt.show()"
   ]
  },
  {
   "cell_type": "markdown",
   "metadata": {},
   "source": [
    "Построим аналгичное для всех остальных топиков"
   ]
  },
  {
   "cell_type": "code",
   "execution_count": 44,
   "metadata": {},
   "outputs": [
    {
     "data": {
      "image/png": "[encoded data removed]",
      "text/plain": [
       "<Figure size 432x288 with 1 Axes>"
      ]
     },
     "metadata": {},
     "output_type": "display_data"
    }
   ],
   "source": [
    "secondcloud = WordCloud(\n",
    "                          background_color='white', # Цвет фона\n",
    "                          width=2500,\n",
    "                          height=1800\n",
    "                         ).generate(\" \".join(second_topic_words)) # передаем слова\n",
    "\n",
    "plt.imshow(secondcloud)\n",
    "plt.axis('off')\n",
    "plt.show()"
   ]
  },
  {
   "cell_type": "code",
   "execution_count": 45,
   "metadata": {},
   "outputs": [
    {
     "data": {
      "image/png": "[encoded data removed]",
      "text/plain": [
       "<Figure size 432x288 with 1 Axes>"
      ]
     },
     "metadata": {},
     "output_type": "display_data"
    }
   ],
   "source": [
    "thirdcloud = WordCloud(\n",
    "                          background_color='white', # Цвет фона\n",
    "                          width=2500,\n",
    "                          height=1800\n",
    "                         ).generate(\" \".join(third_topic_words)) # передаем слова\n",
    "\n",
    "plt.imshow(thirdcloud)\n",
    "plt.axis('off')\n",
    "plt.show()"
   ]
  },
  {
   "cell_type": "code",
   "execution_count": 149,
   "metadata": {},
   "outputs": [
    {
     "data": {
      "image/png": "[encoded data removed]",
      "text/plain": [
       "<Figure size 432x288 with 1 Axes>"
      ]
     },
     "metadata": {},
     "output_type": "display_data"
    }
   ],
   "source": [
    "fourthcloud = WordCloud(\n",
    "                          background_color='white', # Цвет фона\n",
    "                          width=2500,\n",
    "                          height=1800\n",
    "                         ).generate(\" \".join(fourth_topic_words)) # передаем слова\n",
    "\n",
    "plt.imshow(fourthcloud)\n",
    "plt.axis('off')\n",
    "plt.show()"
   ]
  },
  {
   "cell_type": "code",
   "execution_count": 150,
   "metadata": {},
   "outputs": [
    {
     "data": {
      "image/png": "[encoded data removed]",
      "text/plain": [
       "<Figure size 432x288 with 1 Axes>"
      ]
     },
     "metadata": {},
     "output_type": "display_data"
    }
   ],
   "source": [
    "fifthcloud = WordCloud(\n",
    "                          background_color='white', # Цвет фона\n",
    "                          width=2500,\n",
    "                          height=1800\n",
    "                         ).generate(\" \".join(fifth_topic_words)) # передаем слова\n",
    "\n",
    "plt.imshow(fifthcloud)\n",
    "plt.axis('off')\n",
    "plt.show()"
   ]
  }
 ],
 "metadata": {
  "kernelspec": {
   "display_name": "Python 3",
   "language": "python",
   "name": "python3"
  },
  "language_info": {
   "codemirror_mode": {
    "name": "ipython",
    "version": 3
   },
   "file_extension": ".py",
   "mimetype": "text/x-python",
   "name": "python",
   "nbconvert_exporter": "python",
   "pygments_lexer": "ipython3",
   "version": "3.6.5"
  }
 },
 "nbformat": 4,
 "nbformat_minor": 2
}
